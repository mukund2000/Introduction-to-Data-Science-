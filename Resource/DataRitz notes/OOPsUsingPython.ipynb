{
 "cells": [
  {
   "cell_type": "markdown",
   "metadata": {},
   "source": [
    "# Object Oriented Programming using Python"
   ]
  },
  {
   "cell_type": "markdown",
   "metadata": {},
   "source": [
    "<b>What is OOPs?</b>\n",
    "\n",
    "OOPs stands for Object Oriented Programming System. \n",
    "\n",
    "It is a kind of programming model or paradigm to achieve a goal \"Better Project Management\" using a set of components called pillars of OOPs.\n",
    "\n",
    "OOPs has four core components\n",
    "\n",
    "- Encapsulation\n",
    "- Abstraction\n",
    "- Polymorphism\n",
    "- Inheritance\n",
    "\n",
    "These core components define a set of rules to be applied on three other components\n",
    "- Class\n",
    "- Instance\n",
    "- Reference\n",
    "\n"
   ]
  },
  {
   "cell_type": "markdown",
   "metadata": {},
   "source": [
    "<b>What is the class?</b>\n",
    "\n",
    "As the name suggest, class represents the classification of different entities with a set of attributes and the methods.\n",
    "\n",
    "An entity is something about which we manage some information e.g. Student, Employee, Customer etc.\n",
    "\n",
    "For example, a customer class can be represented as \n",
    "\n",
    "Customer:\n",
    "Attributes: cid,name,email,mobile,balance\n",
    "Methods: deposit(), withdraw(), getBalance()\n",
    "\n",
    "<b>Why we need a class?</b>\n",
    "\n",
    "A class works as template or prototype to create multiple instances of same type. An instance is the real entity created based on class specifications.\n",
    "\n",
    "For example\n",
    "\n",
    "We all human beings has been managed by a class Human behind us which has some set of attributes like name, mothersname, fathersname, dob, color, weight, height etc. \n",
    "\n",
    "All human beings has all these data members or attributes.\n",
    "\n",
    "Along with the data members each human being can have some functionality like talk(), walk(), listen(), speak()\n",
    "\n",
    "But these data members and methods cannot be used until we have a real human or an instance of Human class. We all are real entities or instances of Human class and we all use those attributes and methods.\n",
    "\n",
    "<b>How to define a class?</b>\n",
    "\n",
    "A class is a set of specifications or blueprint about an entity describing all possible data members and the methods to be applicable on that entity.\n",
    "\n",
    "Use <span style=\"color:red;font-weight:bold\">class</span> keyword to define a class.\n",
    "\n",
    "Syntax\n",
    "\n",
    "<code>class &lt;entityname&gt;:\n",
    "    &lt;components inside the class goes here&gt;</code>\n"
   ]
  },
  {
   "cell_type": "markdown",
   "metadata": {},
   "source": [
    "<b>What are different components of a class</b>\n",
    "\n",
    "A class can have two types of components\n",
    "\n",
    "- Data Members\n",
    "- Methods\n",
    "\n",
    "Data members are used to store some data about the entity and methods define the functionality of that entity.\n",
    "\n",
    "Methods again can be of two types\n",
    "\n",
    "- Special methods\n",
    "- General methods\n",
    "\n",
    "Special methods again divided in four sub categories\n",
    "\n",
    "- Constructor\n",
    "- Setter\n",
    "- Getter\n",
    "- Destructor"
   ]
  },
  {
   "cell_type": "markdown",
   "metadata": {},
   "source": [
    "<b>What is constructor?</b>\n",
    "\n",
    "A constructor is special method which is used to initialize data related to an instance. \n",
    "\n",
    "Python provides special predefined method called <b>init()</b> as <em>dunder</em> with special container called <span style=\"color:red;font-weight:bold\">self</span> to hold the data related with each instance.\n",
    "\n",
    "Syntax 1\n",
    "\n",
    "<pre>def __init__(self):\n",
    "    &lt;statements goes here&gt;</pre>\n",
    "    \n",
    "Syntax 2\n",
    "<pre>def __init__(self,variable list to pass the data for an instance):\n",
    "    &lt;statements goes here&gt;</pre>\n",
    "\n",
    "Example\n",
    "<pre>\n",
    "class Customer:\n",
    "    def __init__(self,cid,name,mobile,balance):\n",
    "        self.cid=cid\n",
    "        self.name=name\n",
    "        self.mobile=mobile\n",
    "        self.balance=balance\n",
    "</pre> \n"
   ]
  },
  {
   "cell_type": "markdown",
   "metadata": {},
   "source": [
    "<b>What is setter?</b>\n",
    "\n",
    "Setter is special method used to change the value in some data member or attribute of an instance.\n",
    "\n",
    "Prefixed with <b>set</b>\n",
    "\n",
    "For example\n",
    "<pre>\n",
    "class Customer:\n",
    "    def __init__(self,cid,name,mobile,balance):\n",
    "        self.cid=cid\n",
    "        self.name=name\n",
    "        self.mobile=mobile\n",
    "        self.balance=balance\n",
    "\n",
    "    def setMobile(self,mobile):\n",
    "        self.mobile=mobile\n",
    "</pre>    "
   ]
  },
  {
   "cell_type": "markdown",
   "metadata": {},
   "source": [
    "<b>What is getter?</b>\n",
    "\n",
    "Getter is also a special method used to return the value in some attribute of an entity.\n",
    "\n",
    "Prefixed with <b>get</b>\n",
    "\n",
    "For example\n",
    "<pre>\n",
    "class Customer:\n",
    "    def __init__(self,cid,name,mobile,balance):\n",
    "        self.cid=cid\n",
    "        self.name=name\n",
    "        self.mobile=mobile\n",
    "        self.balance=balance\n",
    "\n",
    "    def setMobile(self,mobile):\n",
    "        self.mobile=mobile\n",
    "    \n",
    "    def getMobile(self):\n",
    "        return self.mobile\n",
    "</pre> "
   ]
  },
  {
   "cell_type": "markdown",
   "metadata": {},
   "source": [
    "<b>What are general methods?</b>\n",
    "\n",
    "The methods used to define basic functionality on an instance are called as general methods e.g. deposit(), withdraw()\n",
    "\n",
    "<pre>\n",
    "class Customer:\n",
    "    def __init__(self,cid,name,mobile,balance): # constructor\n",
    "        self.cid=cid\n",
    "        self.name=name\n",
    "        self.mobile=mobile\n",
    "        self.balance=balance\n",
    "\n",
    "    def setMobile(self,mobile): # setter\n",
    "        self.mobile=mobile\n",
    "    \n",
    "    def getMobile(self): # getter\n",
    "        return self.mobile\n",
    "    \n",
    "    def deposit(self,amount): # general method\n",
    "        self.balance+=amount\n",
    "    \n",
    "    def withdraw(self,amount): # general method\n",
    "        self.balance-=amount\n",
    "    \n",
    "    def getBalance(self): # getter\n",
    "        return self.balance\n",
    "    \n",
    "    def getCid(self): # getter\n",
    "        return self.cid;\n",
    "    \n",
    "    def getName(self): # getter\n",
    "        return self.name\n",
    "</pre>\n",
    "\n",
    "<b>Important Note</b> : It is not necessary that every attribute should have a setter e.g. balance cannot be set using setBalance() but updated using deposit() and withdraw() functions but most of the attributes have the getters to return their value to outside world."
   ]
  },
  {
   "cell_type": "markdown",
   "metadata": {},
   "source": [
    "<b>What is an instance? How to create it?</b>\n",
    "\n",
    "The instance is the real entity created based on class specifications. Use the class name with data related to the instance to call the constructor internally and place that data somewhere in memory.\n",
    "\n",
    "But point is how to access that memory space where data is placed?\n",
    "\n",
    "To refer that allocated memory space for the data members related to an intance we need special kind of variable called as <b>reference variable</b> or simply <b>reference</b>.\n",
    "\n",
    "\n",
    "\n",
    "<pre>\n",
    "class Customer:\n",
    "    def __init__(self,cid,name,mobile,balance): # constructor\n",
    "        self.cid=cid\n",
    "        self.name=name\n",
    "        self.mobile=mobile\n",
    "        self.balance=balance\n",
    "\n",
    "    def setMobile(self,mobile): # setter\n",
    "        self.mobile=mobile\n",
    "    \n",
    "    def getMobile(self): # getter\n",
    "        return self.mobile\n",
    "    \n",
    "    def deposit(self,amount): # general method\n",
    "        self.balance+=amount\n",
    "    \n",
    "    def withdraw(self,amount): # general method\n",
    "        self.balance-=amount\n",
    "    \n",
    "    def getBalance(self): # getter\n",
    "        return self.balance\n",
    "    \n",
    "    def getCid(self): # getter\n",
    "        return self.cid;\n",
    "    \n",
    "    def getName(self): # getter\n",
    "        return self.name\n",
    "\n",
    "x=Customer(101,\"Rohit Verma\",\"9810149501\",5000)  # first instance with reference x\n",
    "y=Customer(102,\"Neeraj Sharma\",\"9988776655\",6000) # second instance with reference y\n",
    "\n",
    "x.deposit(4000)\n",
    "y.withdraw(1500)\n",
    "\n",
    "print(\"Balance of %s is %d\" % (x.getName(), x.getBalance()))\n",
    "print(\"Balance of %s is %d\" % (y.getName(), y.getBalance()))\n",
    "\n",
    "</pre>\n",
    "\n"
   ]
  },
  {
   "cell_type": "code",
   "execution_count": 1,
   "metadata": {},
   "outputs": [
    {
     "name": "stdout",
     "output_type": "stream",
     "text": [
      "Balance of Rohit Verma is 9000\n",
      "Balance of Neeraj Sharma is 4500\n"
     ]
    }
   ],
   "source": [
    "class Customer:\n",
    "    def __init__(self,cid,name,mobile,balance): # constructor\n",
    "        self.cid=cid\n",
    "        self.name=name\n",
    "        self.mobile=mobile\n",
    "        self.balance=balance\n",
    "\n",
    "    def setMobile(self,mobile): # setter\n",
    "        self.mobile=mobile\n",
    "    \n",
    "    def getMobile(self): # getter\n",
    "        return self.mobile\n",
    "    \n",
    "    def deposit(self,amount): # general method\n",
    "        self.balance+=amount\n",
    "    \n",
    "    def withdraw(self,amount): # general method\n",
    "        self.balance-=amount\n",
    "    \n",
    "    def getBalance(self): # getter\n",
    "        return self.balance\n",
    "    \n",
    "    def getCid(self): # getter\n",
    "        return self.cid;\n",
    "    \n",
    "    def getName(self): # getter\n",
    "        return self.name\n",
    "\n",
    "x=Customer(101,\"Rohit Verma\",\"9810149501\",5000)  # first instance with reference x\n",
    "y=Customer(102,\"Neeraj Sharma\",\"9988776655\",6000) # second instance with reference y\n",
    "\n",
    "x.deposit(4000)\n",
    "y.withdraw(1500)\n",
    "\n",
    "print(\"Balance of %s is %d\" % (x.getName(), x.getBalance()))\n",
    "print(\"Balance of %s is %d\" % (y.getName(), y.getBalance()))\n"
   ]
  },
  {
   "cell_type": "markdown",
   "metadata": {},
   "source": [
    "<b>What is mean by static and non-static methods?</b>\n",
    "\n",
    "The methods which manage some functionality very specific to an instance are called as instance methods or non-static methods. It is by default. e.g. If you want to deposit the money, you must be a customer and must have an account. So deposit() and withdraw() are instance or non-static methods.\n",
    "\n",
    "There are certain methods which are not specific to some instance but anybody can use it, called as static methods of class methods. \n",
    "\n",
    "For example, anyone can go to the bank and ask that if I deposit some amount in the bank for some period of time on simple interest then how much interest will be paid on maturity.\n",
    "\n",
    "Such methods get called using classname and also called as <b>class methods</b>.\n",
    "\n",
    "We cannot call such methods using an instance.\n"
   ]
  },
  {
   "cell_type": "code",
   "execution_count": 2,
   "metadata": {},
   "outputs": [
    {
     "name": "stdout",
     "output_type": "stream",
     "text": [
      "Balance of Rohit Verma is 9000\n",
      "Balance of Neeraj Sharma is 4500\n",
      "Interest Paid will be 3000.0\n"
     ]
    },
    {
     "ename": "TypeError",
     "evalue": "getAmount() takes 3 positional arguments but 4 were given",
     "output_type": "error",
     "traceback": [
      "\u001b[1;31m---------------------------------------------------------------------------\u001b[0m",
      "\u001b[1;31mTypeError\u001b[0m                                 Traceback (most recent call last)",
      "\u001b[1;32m<ipython-input-2-efda5f00f978>\u001b[0m in \u001b[0;36m<module>\u001b[1;34m\u001b[0m\n\u001b[0;32m     40\u001b[0m \u001b[1;33m\u001b[0m\u001b[0m\n\u001b[0;32m     41\u001b[0m \u001b[0mprint\u001b[0m\u001b[1;33m(\u001b[0m\u001b[1;34m\"Interest Paid will be\"\u001b[0m\u001b[1;33m,\u001b[0m\u001b[0mCustomer\u001b[0m\u001b[1;33m.\u001b[0m\u001b[0mgetAmount\u001b[0m\u001b[1;33m(\u001b[0m\u001b[1;36m5000\u001b[0m\u001b[1;33m,\u001b[0m\u001b[1;36m12\u001b[0m\u001b[1;33m,\u001b[0m\u001b[1;36m5\u001b[0m\u001b[1;33m)\u001b[0m\u001b[1;33m)\u001b[0m\u001b[1;33m\u001b[0m\u001b[1;33m\u001b[0m\u001b[0m\n\u001b[1;32m---> 42\u001b[1;33m \u001b[0mprint\u001b[0m\u001b[1;33m(\u001b[0m\u001b[1;34m\"Interest Paid will be\"\u001b[0m\u001b[1;33m,\u001b[0m\u001b[0mx\u001b[0m\u001b[1;33m.\u001b[0m\u001b[0mgetAmount\u001b[0m\u001b[1;33m(\u001b[0m\u001b[1;36m5000\u001b[0m\u001b[1;33m,\u001b[0m\u001b[1;36m12\u001b[0m\u001b[1;33m,\u001b[0m\u001b[1;36m5\u001b[0m\u001b[1;33m)\u001b[0m\u001b[1;33m)\u001b[0m\u001b[1;33m\u001b[0m\u001b[1;33m\u001b[0m\u001b[0m\n\u001b[0m",
      "\u001b[1;31mTypeError\u001b[0m: getAmount() takes 3 positional arguments but 4 were given"
     ]
    }
   ],
   "source": [
    "class Customer:\n",
    "    def __init__(self,cid,name,mobile,balance): # constructor\n",
    "        self.cid=cid\n",
    "        self.name=name\n",
    "        self.mobile=mobile\n",
    "        self.balance=balance\n",
    "\n",
    "    def setMobile(self,mobile): # setter\n",
    "        self.mobile=mobile\n",
    "    \n",
    "    def getMobile(self): # getter\n",
    "        return self.mobile\n",
    "    \n",
    "    def deposit(self,amount): # general method\n",
    "        self.balance+=amount\n",
    "    \n",
    "    def withdraw(self,amount): # general method\n",
    "        self.balance-=amount\n",
    "    \n",
    "    def getBalance(self): # getter\n",
    "        return self.balance\n",
    "    \n",
    "    def getCid(self): # getter\n",
    "        return self.cid;\n",
    "    \n",
    "    def getName(self): # getter\n",
    "        return self.name\n",
    "    \n",
    "    def getAmount(principle, rate, timeperiod): #static or class method - cannot be called with instance\n",
    "        return (principle*rate*timeperiod)/100\n",
    "\n",
    "x=Customer(101,\"Rohit Verma\",\"9810149501\",5000)  # first instance with reference x\n",
    "y=Customer(102,\"Neeraj Sharma\",\"9988776655\",6000) # second instance with reference y\n",
    "\n",
    "x.deposit(4000)\n",
    "y.withdraw(1500)\n",
    "\n",
    "print(\"Balance of %s is %d\" % (x.getName(), x.getBalance()))\n",
    "print(\"Balance of %s is %d\" % (y.getName(), y.getBalance()))\n",
    "\n",
    "print(\"Interest Paid will be\",Customer.getAmount(5000,12,5))\n",
    "print(\"Interest Paid will be\",x.getAmount(5000,12,5))\n"
   ]
  },
  {
   "cell_type": "markdown",
   "metadata": {},
   "source": [
    "<b>Can we call a static method with an instance?</b>\n",
    "\n",
    "Yes we can\n",
    "\n",
    "If you want to allow such methods to called with instance as well then mark it as static using the <b>decorator</b> <span style=\"color:red\">@staticmethod</span> above that method\n"
   ]
  },
  {
   "cell_type": "code",
   "execution_count": 3,
   "metadata": {},
   "outputs": [
    {
     "name": "stdout",
     "output_type": "stream",
     "text": [
      "Balance of Rohit Verma is 9000\n",
      "Balance of Neeraj Sharma is 4500\n",
      "Interest Paid will be 3000.0\n",
      "Interest Paid will be 3000.0\n"
     ]
    }
   ],
   "source": [
    "class Customer:\n",
    "    def __init__(self,cid,name,mobile,balance): # constructor\n",
    "        self.cid=cid\n",
    "        self.name=name\n",
    "        self.mobile=mobile\n",
    "        self.balance=balance\n",
    "\n",
    "    def setMobile(self,mobile): # setter\n",
    "        self.mobile=mobile\n",
    "    \n",
    "    def getMobile(self): # getter\n",
    "        return self.mobile\n",
    "    \n",
    "    def deposit(self,amount): # general method\n",
    "        self.balance+=amount\n",
    "    \n",
    "    def withdraw(self,amount): # general method\n",
    "        self.balance-=amount\n",
    "    \n",
    "    def getBalance(self): # getter\n",
    "        return self.balance\n",
    "    \n",
    "    def getCid(self): # getter\n",
    "        return self.cid;\n",
    "    \n",
    "    def getName(self): # getter\n",
    "        return self.name\n",
    "    \n",
    "    @staticmethod\n",
    "    def getAmount(principle, rate, timeperiod): #static or class method - can be called with instance\n",
    "        return (principle*rate*timeperiod)/100\n",
    "\n",
    "x=Customer(101,\"Rohit Verma\",\"9810149501\",5000)  # first instance with reference x\n",
    "y=Customer(102,\"Neeraj Sharma\",\"9988776655\",6000) # second instance with reference y\n",
    "\n",
    "x.deposit(4000)\n",
    "y.withdraw(1500)\n",
    "\n",
    "print(\"Balance of %s is %d\" % (x.getName(), x.getBalance()))\n",
    "print(\"Balance of %s is %d\" % (y.getName(), y.getBalance()))\n",
    "\n",
    "print(\"Interest Paid will be\",Customer.getAmount(5000,12,5))\n",
    "print(\"Interest Paid will be\",x.getAmount(5000,12,5))"
   ]
  },
  {
   "cell_type": "markdown",
   "metadata": {},
   "source": [
    "<b>Can we access attributes of an instance like methods?</b>\n",
    "\n",
    "Yes we can use get or set the data from the attributes.\n",
    "\n",
    "<span style=\"background-color:red;color:yellow\">The attributes of the instance are not secured by default.</span>"
   ]
  },
  {
   "cell_type": "code",
   "execution_count": 4,
   "metadata": {},
   "outputs": [
    {
     "name": "stdout",
     "output_type": "stream",
     "text": [
      "Balance of Rohit Verma is 9000\n",
      "Balance of Neeraj Sharma is 4500\n"
     ]
    }
   ],
   "source": [
    "class Customer:\n",
    "    def __init__(self,cid,name,mobile,balance): # constructor\n",
    "        self.cid=cid\n",
    "        self.name=name\n",
    "        self.mobile=mobile\n",
    "        self.balance=balance\n",
    "\n",
    "    def setMobile(self,mobile): # setter\n",
    "        self.mobile=mobile\n",
    "    \n",
    "    def getMobile(self): # getter\n",
    "        return self.mobile\n",
    "    \n",
    "    def deposit(self,amount): # general method\n",
    "        self.balance+=amount\n",
    "    \n",
    "    def withdraw(self,amount): # general method\n",
    "        self.balance-=amount\n",
    "\n",
    "    def getBalance(self): # getter\n",
    "        return self.balance\n",
    "    \n",
    "    def getCid(self): # getter\n",
    "        return self.cid;\n",
    "\n",
    "    def getName(self): # getter\n",
    "        return self.name\n",
    "    \n",
    "    @staticmethod\n",
    "    def getAmount(principle, rate, timeperiod): #static or class method - can be called with instance\n",
    "        return (principle*rate*timeperiod)/100\n",
    "    \n",
    "x=Customer(101,\"Rohit Verma\",\"9810149501\",5000)  # first instance with reference x\n",
    "y=Customer(102,\"Neeraj Sharma\",\"9988776655\",6000) # second instance with reference y\n",
    "\n",
    "x.balance+=4000 # updating attributes directly -- not security at all\n",
    "y.balance-=1500\n",
    "\n",
    "print(\"Balance of %s is %d\" % (x.name, x.balance))\n",
    "print(\"Balance of %s is %d\" % (y.name, y.balance))"
   ]
  },
  {
   "cell_type": "markdown",
   "metadata": {},
   "source": [
    "<b>What is encapsulation?</b>\n",
    "\n",
    "If we check the dictionary meaning of encapsulation\n",
    "<img src=\"pythonimages/encapsulationdefinition.png\">\n",
    "\n",
    "It describes the idea of bundling data and methods that work on that data within one unit called the class.\n",
    "\n",
    "This concept is also often used to hide the internal representation, or state, of an object from the outside.\n",
    "\n",
    "It states that all the data and the methods related to an entity must be bundled as a unit which is basic fundamental of creation of the class.\n",
    "\n",
    "Syntax\n",
    "<pre>\n",
    "class &lt;entityname&gt;:\n",
    "    &lt;data members and methods related to that entity&gt;\n",
    "</pre>"
   ]
  },
  {
   "cell_type": "markdown",
   "metadata": {},
   "source": [
    "<b>What is abstraction?</b>\n",
    "\n",
    "Abstraction meaning hiding the complexity of some system. \n",
    "\n",
    "The abstraction is simplifying complex reality by modeling classes.\n",
    "\n",
    "Data abstraction is one of the most essential and important feature of object oriented programming where we can hide the data and complex functionality from outside world and show only the things for easy interaction.\n",
    "\n",
    "Abstraction in Python is achieved using abstract classes and interfaces along with some access control layers.\n",
    "\n",
    "OOPs in Python has different abstraction or access layers\n",
    "\n",
    "- Public Access\n",
    "- Protected Access\n",
    "- Private Access\n",
    "\n",
    "\n",
    "Public means accessible anywhere.\n",
    "Protected means accessible in current class or in child class.\n",
    "Private means accessible with current class only.\n",
    "\n",
    "<b>Important Notes</b>\n",
    "- All member variables and methods are public by default in Python.\n",
    "- Use double underscore (&lowbar;&lowbar;) with the data members and the methods to make the private \n",
    "- Use single underscore (&lowbar;) with the data members and the methods to make them protected. Protected members will be discussed later."
   ]
  },
  {
   "cell_type": "code",
   "execution_count": 5,
   "metadata": {},
   "outputs": [
    {
     "name": "stdout",
     "output_type": "stream",
     "text": [
      "Balance of Rohit Verma is 9000\n",
      "Balance of Neeraj Sharma is 4500\n"
     ]
    }
   ],
   "source": [
    "# Making data members are private\n",
    "class Customer:\n",
    "    def __init__(self,cid,name,mobile,balance): # constructor\n",
    "        self.__cid=cid  # private access\n",
    "        self.__name=name\n",
    "        self.__mobile=mobile\n",
    "        self.__balance=balance\n",
    "\n",
    "    def setMobile(self,mobile): # setter\n",
    "        self.__mobile=mobile\n",
    "    \n",
    "    def getMobile(self): # getter\n",
    "        return self.__mobile\n",
    "    \n",
    "    def deposit(self,amount): # general method\n",
    "        self.__balance+=amount\n",
    "    \n",
    "    def withdraw(self,amount): # general method\n",
    "        self.__balance-=amount\n",
    "\n",
    "    def getBalance(self): # getter\n",
    "        return self.__balance\n",
    "    \n",
    "    def getCid(self): # getter\n",
    "        return self.__cid;\n",
    "\n",
    "    def getName(self): # getter\n",
    "        return self.__name\n",
    "    \n",
    "    @staticmethod\n",
    "    def getAmount(principle, rate, timeperiod): #static or class method - can be called with instance\n",
    "        return (principle*rate*timeperiod)/100\n",
    "    \n",
    "x=Customer(101,\"Rohit Verma\",\"9810149501\",5000)  # first instance with reference x\n",
    "y=Customer(102,\"Neeraj Sharma\",\"9988776655\",6000) # second instance with reference y\n",
    "\n",
    "x.deposit(4000) # Direct update not allowed\n",
    "y.withdraw(1500)\n",
    "\n",
    "print(\"Balance of %s is %d\" % (x.getName(), x.getBalance()))\n",
    "print(\"Balance of %s is %d\" % (y.getName(), y.getBalance()))"
   ]
  },
  {
   "cell_type": "code",
   "execution_count": 6,
   "metadata": {},
   "outputs": [
    {
     "name": "stdout",
     "output_type": "stream",
     "text": [
      "Grade of Vipin Kumar having roll number 101 is A+\n"
     ]
    }
   ],
   "source": [
    "# Making methods are private\n",
    "\n",
    "# WAP to create a class Student having attributes as rollno,name,avgmarks. Create a method getGrade() which\n",
    "# returns grade of the student based on rules\n",
    "# A+ for average marks >=80\n",
    "# A  for average marks >=60\n",
    "# B+  for average marks >=50\n",
    "# F  for others\n",
    "# Don't allow to access this method to outside world. \n",
    "# Create another method showGrade() to show the grade using getGrade() in following format\n",
    "#    Grade of <name> having roll number <rollno> is <grade>\n",
    "\n",
    "class Student:\n",
    "    def __init__(self,rollno,name,avgmarks):\n",
    "        self.__rollno=rollno\n",
    "        self.__name=name\n",
    "        self.__avgmarks=avgmarks\n",
    "    def __getGrade(self): # private method\n",
    "        if self.__avgmarks>=80:\n",
    "            return \"A+\"\n",
    "        elif self.__avgmarks>=60:\n",
    "            return \"A\"\n",
    "        elif self.__avgmarks>=50:\n",
    "            return \"B+\"\n",
    "        else:\n",
    "            return \"F\"\n",
    "    def showGrade(self): # public method\n",
    "        print(\"Grade of {} having roll number {} is {}\".format(self.__name,self.__rollno,self.__getGrade()))\n",
    "        \n",
    "        \n",
    "s=Student(101,\"Vipin Kumar\",89)\n",
    "s.showGrade()"
   ]
  },
  {
   "cell_type": "markdown",
   "metadata": {},
   "source": [
    "<b>What is Inheritance?</b>\n",
    "\n",
    "Most important pillar of OOPs which provides <b>re-usability of code</b>, <b>reducing the code size</b> and <b>improving the performance of the application</b>.\n",
    "\n",
    "Here the classes have parent-child relationship. Public and protected members of parent class get passed to the child class.\n",
    "\n",
    "Syntax\n",
    "<pre>\n",
    "class X (Y):\n",
    "    &lt;attributes and methods of child class&gt;\n",
    "</pre>\n",
    "\n",
    "Here Y is the parent class and X is child class.\n",
    "\n",
    "Python allows multiple inheritance as well.\n",
    "\n",
    "Syntax\n",
    "<pre>\n",
    "class X (Y,Z):\n",
    "    &lt;attributes and methods of child class&gt;\n",
    "</pre>\n",
    "\n",
    "To access the methods of parent class use <span style=\"color:red\">super()</span> method"
   ]
  },
  {
   "cell_type": "code",
   "execution_count": 7,
   "metadata": {
    "scrolled": false
   },
   "outputs": [
    {
     "name": "stdout",
     "output_type": "stream",
     "text": [
      "Instance of class X created\n",
      "Instance of class Y created\n"
     ]
    }
   ],
   "source": [
    "class X:\n",
    "    def __init__(self):\n",
    "        print(\"Instance of class X created\")\n",
    "class Y (X):\n",
    "    def __init__(self):\n",
    "        super().__init__() # calling constructor of parent class\n",
    "        print(\"Instance of class Y created\")\n",
    "        \n",
    "y=Y()\n"
   ]
  },
  {
   "cell_type": "code",
   "execution_count": 8,
   "metadata": {},
   "outputs": [
    {
     "name": "stdout",
     "output_type": "stream",
     "text": [
      "Instance of class X created\n",
      "Instance of class Z created\n"
     ]
    }
   ],
   "source": [
    "class X:\n",
    "    def __init__(self):\n",
    "        print(\"Instance of class X created\")\n",
    "class Y:\n",
    "    def __init__(self):\n",
    "        print(\"Instance of class Y created\")\n",
    "class Z (X,Y):\n",
    "    def __init__(self):\n",
    "        super().__init__() # refers to first parent only\n",
    "        print(\"Instance of class Z created\")\n",
    "z=Z()"
   ]
  },
  {
   "cell_type": "markdown",
   "metadata": {},
   "source": [
    "<b>Can we see the example of re-usablity via inheritance?</b>\n",
    "\n",
    "Yes we can.\n",
    "\n",
    "Take a simple example using real life story called Sharma-Verma story conceptualized by Prof. (Dr.) B P Sharma\n",
    "\n",
    "If we have a class Num2 which works on two data members a and b and performs various operations like product of two numbers, sum of two numbers etc.\n",
    "\n"
   ]
  },
  {
   "cell_type": "code",
   "execution_count": 9,
   "metadata": {},
   "outputs": [
    {
     "name": "stdout",
     "output_type": "stream",
     "text": [
      "Product is 30\n"
     ]
    }
   ],
   "source": [
    "class Num2:\n",
    "    def __init__(self,a,b):\n",
    "        self.__a=a\n",
    "        self.__b=b\n",
    "    def product(self):\n",
    "        return self.__a*self.__b\n",
    "\n",
    "x=Num2(5,6)\n",
    "print(\"Product is\",x.product())"
   ]
  },
  {
   "cell_type": "markdown",
   "metadata": {},
   "source": [
    "If we have another class Num3 which want to work on three data members, it has to manage the three data members. But we inherit class Num2 into Num3 then we need to manage only one data member and we can reuse the method product() to return product of three numbers"
   ]
  },
  {
   "cell_type": "code",
   "execution_count": 10,
   "metadata": {},
   "outputs": [
    {
     "name": "stdout",
     "output_type": "stream",
     "text": [
      "Product is 210\n"
     ]
    }
   ],
   "source": [
    "class Num3 (Num2):\n",
    "    def __init__(self,a,b,c):\n",
    "        super().__init__(a,b)\n",
    "        self.__c=c\n",
    "    def product(self):\n",
    "        return super().product()*self.__c  # reusing method of parent class\n",
    "x=Num3(5,6,7)\n",
    "print(\"Product is\",x.product())"
   ]
  },
  {
   "cell_type": "markdown",
   "metadata": {},
   "source": [
    "<b>What is Polymorphism</b>\n",
    "\n",
    "Poly means multiple and morph means formats. When an item have multiple formats or muliple usage. It is called as polymorphism.\n",
    "\n",
    "It can be of two types\n",
    "\n",
    "- Compile time polymorphism\n",
    "- Runtime Polymorphism "
   ]
  },
  {
   "cell_type": "markdown",
   "metadata": {},
   "source": [
    "<b>What is compile time polymorphism?</b>\n",
    "\n",
    "When the compiler knows different usage of an item at the time of compilation it is called as compile time polymorphism.\n",
    "\n",
    "OOPs provides a concept of <b>method overloading</b> to achieve the compile time polymorphism.\n"
   ]
  },
  {
   "cell_type": "markdown",
   "metadata": {},
   "source": [
    "<b>What is method overloading?</b>\n",
    "\n",
    "When two or more methods have the same name but different number of arguments or different types of arguments then called as method overloading.\n",
    "\n",
    "For example\n",
    "\n",
    "Create a class General having three static methods to print area of square, circle and rectangle."
   ]
  },
  {
   "cell_type": "markdown",
   "metadata": {},
   "source": [
    "### What is an abstract class?"
   ]
  },
  {
   "cell_type": "markdown",
   "metadata": {},
   "source": [
    "A class which is used for inheritance purpose only but can never be instatiated is called as abstract class.\n",
    "\n",
    "Such classes have only abstract methods.\n",
    "\n",
    "In Python, a class to be called as abstract, must inherited from __ABC__ class of __abc__ module"
   ]
  },
  {
   "cell_type": "markdown",
   "metadata": {},
   "source": [
    "### What is an abstract method"
   ]
  },
  {
   "cell_type": "markdown",
   "metadata": {},
   "source": [
    "A method which has the signature but no body contents is called as abstract method.\n",
    "\n",
    "Such methods are always overridden in child class.\n",
    "\n",
    "To mark a method as abstract Python provides __@abstractmethod__ decorator in __abc__ module"
   ]
  },
  {
   "cell_type": "code",
   "execution_count": 11,
   "metadata": {},
   "outputs": [
    {
     "ename": "TypeError",
     "evalue": "Can't instantiate abstract class Demo with abstract methods hi",
     "output_type": "error",
     "traceback": [
      "\u001b[1;31m---------------------------------------------------------------------------\u001b[0m",
      "\u001b[1;31mTypeError\u001b[0m                                 Traceback (most recent call last)",
      "\u001b[1;32m<ipython-input-11-005b2138b880>\u001b[0m in \u001b[0;36m<module>\u001b[1;34m\u001b[0m\n\u001b[0;32m      5\u001b[0m         \u001b[1;32mpass\u001b[0m\u001b[1;33m\u001b[0m\u001b[1;33m\u001b[0m\u001b[0m\n\u001b[0;32m      6\u001b[0m \u001b[1;33m\u001b[0m\u001b[0m\n\u001b[1;32m----> 7\u001b[1;33m \u001b[0md\u001b[0m\u001b[1;33m=\u001b[0m\u001b[0mDemo\u001b[0m\u001b[1;33m(\u001b[0m\u001b[1;33m)\u001b[0m\u001b[1;33m\u001b[0m\u001b[1;33m\u001b[0m\u001b[0m\n\u001b[0m",
      "\u001b[1;31mTypeError\u001b[0m: Can't instantiate abstract class Demo with abstract methods hi"
     ]
    }
   ],
   "source": [
    "from abc import ABC,abstractmethod\n",
    "class Demo(ABC):\n",
    "    @abstractmethod\n",
    "    def hi(self):\n",
    "        pass\n",
    "\n",
    "d=Demo()"
   ]
  },
  {
   "cell_type": "markdown",
   "metadata": {},
   "source": [
    "### Why we use abstract classes and abstract methods?"
   ]
  },
  {
   "cell_type": "markdown",
   "metadata": {},
   "source": [
    "Abstract class along with abstract method provide the abstraction layer on business logic."
   ]
  },
  {
   "cell_type": "code",
   "execution_count": 12,
   "metadata": {},
   "outputs": [],
   "source": [
    "from abc import ABC,abstractmethod\n",
    "class Hr(ABC):\n",
    "    @abstractmethod\n",
    "    def salaryInfo(self):\n",
    "        pass\n",
    "\n",
    "class Sales(ABC):\n",
    "    @abstractmethod\n",
    "    def forecasting(self):\n",
    "        pass"
   ]
  },
  {
   "cell_type": "code",
   "execution_count": 13,
   "metadata": {},
   "outputs": [
    {
     "name": "stdout",
     "output_type": "stream",
     "text": [
      "Sale will be doubled this year\n"
     ]
    }
   ],
   "source": [
    "\n",
    "class Erp(Hr,Sales):\n",
    "    def salaryInfo(self):\n",
    "        print(\"Salary will be given on 7th of every month\")\n",
    "    def forecasting(self):\n",
    "        print(\"Sale will be doubled this year\")\n",
    "\n",
    "h=Erp()\n",
    "h.forecasting()"
   ]
  },
  {
   "cell_type": "markdown",
   "metadata": {},
   "source": [
    "### What is Method Resolution Order (MRO) in Python?"
   ]
  },
  {
   "cell_type": "markdown",
   "metadata": {},
   "source": [
    "We can see the method resolution order using dunder <code>__mro__</code> or <code>mro()</code> function"
   ]
  },
  {
   "cell_type": "code",
   "execution_count": 14,
   "metadata": {},
   "outputs": [
    {
     "name": "stdout",
     "output_type": "stream",
     "text": [
      "[<class '__main__.C'>, <class '__main__.A'>, <class '__main__.B'>, <class 'object'>]\n"
     ]
    }
   ],
   "source": [
    "class A:\n",
    "    pass\n",
    "class B:\n",
    "    pass\n",
    "class C(A,B):\n",
    "    pass\n",
    "\n",
    "print(C.mro())"
   ]
  },
  {
   "cell_type": "code",
   "execution_count": 15,
   "metadata": {},
   "outputs": [
    {
     "name": "stdout",
     "output_type": "stream",
     "text": [
      "(<class '__main__.C'>, <class '__main__.A'>, <class '__main__.B'>, <class 'object'>)\n"
     ]
    }
   ],
   "source": [
    "class A:\n",
    "    pass\n",
    "class B:\n",
    "    pass\n",
    "class C(A,B):\n",
    "    pass\n",
    "\n",
    "print(C.__mro__)"
   ]
  },
  {
   "cell_type": "code",
   "execution_count": 16,
   "metadata": {},
   "outputs": [
    {
     "name": "stdout",
     "output_type": "stream",
     "text": [
      "Instance of class A created\n",
      "Instance of class C created\n"
     ]
    }
   ],
   "source": [
    "class A:\n",
    "    def __init__(self):\n",
    "        print(\"Instance of class A created\")\n",
    "class B:\n",
    "    def __init__(self):\n",
    "        print(\"Instance of class B created\")\n",
    "class C(A,B):\n",
    "    def __init__(self):\n",
    "        super().__init__()\n",
    "        print(\"Instance of class C created\")\n",
    "\n",
    "x=C()"
   ]
  },
  {
   "cell_type": "code",
   "execution_count": null,
   "metadata": {},
   "outputs": [],
   "source": []
  },
  {
   "cell_type": "code",
   "execution_count": null,
   "metadata": {},
   "outputs": [],
   "source": []
  }
 ],
 "metadata": {
  "kernelspec": {
   "display_name": "Python 3",
   "language": "python",
   "name": "python3"
  },
  "language_info": {
   "codemirror_mode": {
    "name": "ipython",
    "version": 3
   },
   "file_extension": ".py",
   "mimetype": "text/x-python",
   "name": "python",
   "nbconvert_exporter": "python",
   "pygments_lexer": "ipython3",
   "version": "3.8.3"
  }
 },
 "nbformat": 4,
 "nbformat_minor": 2
}
