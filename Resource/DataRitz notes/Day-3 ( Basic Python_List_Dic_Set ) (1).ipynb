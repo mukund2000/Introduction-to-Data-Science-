{
 "cells": [
  {
   "attachments": {
    "image.png": {
     "image/png": "[encoded data removed]"
    }
   },
   "cell_type": "markdown",
   "metadata": {},
   "source": [
    "# Data Analytics and Machine Learning using Python\n",
    "![image.png](attachment:image.png)"
   ]
  },
  {
   "cell_type": "markdown",
   "metadata": {},
   "source": [
    "# Module :0 &emsp;  &emsp;Basics of Python &emsp; &emsp;  &emsp;  Day-3"
   ]
  },
  {
   "cell_type": "markdown",
   "metadata": {},
   "source": [
    "## Topics\n",
    "\n",
    "- List\n",
    "- Tuple\n",
    "- Set\n",
    "- Dictionary"
   ]
  },
  {
   "cell_type": "markdown",
   "metadata": {},
   "source": [
    "## List\n",
    "\n",
    "\n",
    "- A list is a value that contains multiple values in an ordered sequence. \n",
    "- The term list value refers to the list itself (which is a value that can be stored in a variable or passed to a function like any other value),not the values inside the list value. \n",
    "- A list value looks like this: ['cat', 'bat', 'rat', 'elephant'] .\n",
    "- a list begins with an opening square bracket and ends with a closing square bracket, [ ]\n"
   ]
  },
  {
   "cell_type": "markdown",
   "metadata": {},
   "source": [
    "### Creating an Empty List"
   ]
  },
  {
   "cell_type": "code",
   "execution_count": null,
   "metadata": {},
   "outputs": [],
   "source": [
    "# Method -1\n",
    "name_of_list=[]\n",
    "print(name_of_list)\n",
    "\n",
    "# Method -2\n",
    "name_of_list1=list()\n",
    "print(name_of_list1)"
   ]
  },
  {
   "cell_type": "markdown",
   "metadata": {},
   "source": [
    "### Creating a non-empty list\n",
    "\n",
    "- **Creating a list is as simple as putting different comma-separated values between square brackets**\n",
    "\n",
    "#### Example : \n",
    "> odd_number=[101,103,105,107,109,111,113,115]"
   ]
  },
  {
   "cell_type": "code",
   "execution_count": null,
   "metadata": {},
   "outputs": [],
   "source": [
    "# odd_number is a list of odd number\n",
    "odd_number=[101,103,105,107,109,111,113,115]\n",
    "print(odd_number)"
   ]
  },
  {
   "cell_type": "code",
   "execution_count": null,
   "metadata": {},
   "outputs": [],
   "source": [
    "# colors is a list of Color\n",
    "colors=[\"black\",\"blue\",\"green\"]\n",
    "print(colors)"
   ]
  },
  {
   "cell_type": "markdown",
   "metadata": {
    "slideshow": {
     "slide_type": "slide"
    }
   },
   "source": [
    "### Access Python List"
   ]
  },
  {
   "cell_type": "code",
   "execution_count": null,
   "metadata": {
    "slideshow": {
     "slide_type": "subslide"
    }
   },
   "outputs": [],
   "source": [
    "#To access a Python list as a whole, all you need is its name.\n",
    "colors=[\"black\",\"blue\",\"green\"]\n",
    "print(colors)\n",
    "\n",
    "# To access a single element, use its index in square brackets\n",
    "\n",
    "print(colors[0])\n",
    "print(colors[2])"
   ]
  },
  {
   "cell_type": "markdown",
   "metadata": {
    "slideshow": {
     "slide_type": "slide"
    }
   },
   "source": [
    "### Slicing a Python List\n",
    "\n",
    "    When you want only a part of a Python list, you can use the slicing operator []\n",
    "    \n",
    "> Syntax\n",
    "- nameoflist [starting index : ending index]\n",
    "\n",
    "Starting index is included but ending index is excluded"
   ]
  },
  {
   "cell_type": "code",
   "execution_count": null,
   "metadata": {
    "slideshow": {
     "slide_type": "subslide"
    }
   },
   "outputs": [],
   "source": [
    "print(colors)"
   ]
  },
  {
   "cell_type": "code",
   "execution_count": null,
   "metadata": {
    "slideshow": {
     "slide_type": "fragment"
    }
   },
   "outputs": [],
   "source": [
    "# It slice list from index 1 t0 2-1(i.e 1)\n",
    "print(colors[1:2])"
   ]
  },
  {
   "cell_type": "markdown",
   "metadata": {
    "slideshow": {
     "slide_type": "slide"
    }
   },
   "source": [
    "### Negative indices-\n",
    "\n",
    "when we traverse the list from right its index can be neagtive as follow\n",
    "\n",
    "in list color \n",
    "- black is at index -3\n",
    "- blue is at index -2\n",
    "- green is at index -1 and so on...\n",
    "\n",
    "\n",
    "\n",
    "> The integer value -1 refers to the last index in a list\n",
    "\n",
    "> the value -2 refers to the second-to-last index in a list, and so on.\n",
    "\n"
   ]
  },
  {
   "cell_type": "code",
   "execution_count": null,
   "metadata": {
    "slideshow": {
     "slide_type": "subslide"
    }
   },
   "outputs": [],
   "source": [
    "print(colors[-1])"
   ]
  },
  {
   "cell_type": "code",
   "execution_count": null,
   "metadata": {
    "slideshow": {
     "slide_type": "fragment"
    }
   },
   "outputs": [],
   "source": [
    "# when we left empty end index in slicing it traverse at last element\n",
    "print(colors[-3:])"
   ]
  },
  {
   "cell_type": "markdown",
   "metadata": {
    "slideshow": {
     "slide_type": "slide"
    }
   },
   "source": [
    "### Reassigning List value"
   ]
  },
  {
   "cell_type": "code",
   "execution_count": null,
   "metadata": {
    "slideshow": {
     "slide_type": "subslide"
    }
   },
   "outputs": [],
   "source": [
    "print(\"Befor upadate list is \",colors)\n",
    "colors[1]=\"white\"\n",
    "print(\"After updating lindex 2 value list is\",colors)"
   ]
  },
  {
   "cell_type": "markdown",
   "metadata": {
    "slideshow": {
     "slide_type": "slide"
    }
   },
   "source": [
    "### Deleting a single element from list"
   ]
  },
  {
   "cell_type": "code",
   "execution_count": null,
   "metadata": {
    "slideshow": {
     "slide_type": "subslide"
    }
   },
   "outputs": [],
   "source": [
    "print(colors)\n",
    "del colors[2]\n",
    "print(colors)"
   ]
  },
  {
   "cell_type": "markdown",
   "metadata": {
    "slideshow": {
     "slide_type": "slide"
    }
   },
   "source": [
    "### Deleting more than one element from list"
   ]
  },
  {
   "cell_type": "code",
   "execution_count": null,
   "metadata": {
    "slideshow": {
     "slide_type": "subslide"
    }
   },
   "outputs": [],
   "source": [
    "del colors[0:2]\n",
    "print(colors)"
   ]
  },
  {
   "cell_type": "markdown",
   "metadata": {
    "slideshow": {
     "slide_type": "slide"
    }
   },
   "source": [
    "### Operator used on list\n",
    "- **Concatenation (+)**\n",
    "- **Multiplication(*)**\n",
    "- **Membership (in or not in)**"
   ]
  },
  {
   "cell_type": "code",
   "execution_count": null,
   "metadata": {
    "slideshow": {
     "slide_type": "subslide"
    }
   },
   "outputs": [],
   "source": [
    "# Concatenation\n",
    "list1=[1,2,3]\n",
    "list2=[\"apple\",\"mango\",23.5]\n",
    "list4=list1+list2\n",
    "print(list4)\n",
    "\n",
    "# Multiplication\n",
    "list1=[1,2]\n",
    "list5=list1*3\n",
    "print(list5)\n",
    "\n",
    "# Membership\n",
    "list1=[12,34,56,78,90,\"Apple\"]\n",
    "12 in list1"
   ]
  },
  {
   "cell_type": "markdown",
   "metadata": {
    "slideshow": {
     "slide_type": "slide"
    }
   },
   "source": [
    "### Built-in List Functions\n",
    "\n",
    "- len()\n",
    "calculates the length of the list.\n",
    "- max()\n",
    "returns the item from the list with the highest value.\n",
    "- min()\n",
    "returns the item from the Python list with the lowest value.\n",
    "- sum()\n",
    "returns the sum of all the elements in the list.\n",
    "- #### but sum will only work for integer and float not on string"
   ]
  },
  {
   "cell_type": "code",
   "execution_count": null,
   "metadata": {
    "slideshow": {
     "slide_type": "subslide"
    }
   },
   "outputs": [],
   "source": [
    "list1=[12,34,56,78,900,1,2,45]\n",
    "print(\"length of list =\" , len(list1))\n",
    "print(\"higest value =\" , max(list1))\n",
    "print(\"min value =\" , min(list1))\n",
    "print(\"sum =\" , sum(list1))"
   ]
  },
  {
   "cell_type": "markdown",
   "metadata": {
    "slideshow": {
     "slide_type": "slide"
    }
   },
   "source": [
    "### Built-in Method\n",
    "- <b>append()</b> --> It adds an item to the end of the list.\n",
    "\n",
    "- <b>insert()</b> -->It inserts an item at a specified position.\n",
    "\n",
    "- <b>remove()</b> --> It removes the first instance of an item from the Python list.\n",
    "\n",
    "- <b>pop()</b> --> It removes the element at the specified index, and prints it to the screen.\n"
   ]
  },
  {
   "cell_type": "markdown",
   "metadata": {
    "slideshow": {
     "slide_type": "subslide"
    }
   },
   "source": [
    "- <b>clear()</b> --> It empties the Python list.\n",
    "\n",
    "- <b>index()</b> --> It returns the first matching index of the item specified.\n",
    "\n",
    "- <b>count()</b> --> It returns the count of the item specified.\n",
    "\n",
    "- <b>sort()</b> --> It sorts the list in an ascending order.\n",
    "\n",
    "- <b>reverse()</b> --> It reverses the order of elements in the Python lists."
   ]
  },
  {
   "cell_type": "code",
   "execution_count": null,
   "metadata": {
    "slideshow": {
     "slide_type": "subslide"
    }
   },
   "outputs": [],
   "source": [
    "# Append\n",
    "list1=[12,23,45,67,89]\n",
    "print(list1)\n",
    "list1.append(\"apple\")\n",
    "print(list1)"
   ]
  },
  {
   "cell_type": "code",
   "execution_count": null,
   "metadata": {
    "slideshow": {
     "slide_type": "fragment"
    }
   },
   "outputs": [],
   "source": [
    "# Insert at index 2 value Mango \n",
    "list1.insert(2,\"Mango\")\n",
    "print(list1)"
   ]
  },
  {
   "cell_type": "code",
   "execution_count": null,
   "metadata": {
    "slideshow": {
     "slide_type": "fragment"
    }
   },
   "outputs": [],
   "source": [
    "#remove \n",
    "list1.remove(23)\n",
    "print(list1)"
   ]
  },
  {
   "cell_type": "code",
   "execution_count": null,
   "metadata": {
    "slideshow": {
     "slide_type": "subslide"
    }
   },
   "outputs": [],
   "source": [
    "#pop -> remove last element by-default\n",
    "list1.pop()\n",
    "print(list1)"
   ]
  },
  {
   "cell_type": "code",
   "execution_count": null,
   "metadata": {
    "slideshow": {
     "slide_type": "fragment"
    }
   },
   "outputs": [],
   "source": [
    "# count\n",
    "print(list1.count(12))\n",
    "\n",
    "#Index --> It returns the first matching index of the item specified.\n",
    "print(list1.index(45))"
   ]
  },
  {
   "cell_type": "code",
   "execution_count": null,
   "metadata": {
    "slideshow": {
     "slide_type": "subslide"
    }
   },
   "outputs": [],
   "source": [
    "#reverse\n",
    "list1.reverse()\n",
    "print(list1)"
   ]
  },
  {
   "cell_type": "code",
   "execution_count": null,
   "metadata": {
    "slideshow": {
     "slide_type": "fragment"
    }
   },
   "outputs": [],
   "source": [
    "# clear -> clear all element\n",
    "list1.clear()\n",
    "print(list1)"
   ]
  },
  {
   "cell_type": "code",
   "execution_count": null,
   "metadata": {
    "slideshow": {
     "slide_type": "fragment"
    }
   },
   "outputs": [],
   "source": [
    "# Sort List in assending order\n",
    "list1=[12,34,56,31,3,4,1]\n",
    "list1.sort()\n",
    "print(list1)"
   ]
  },
  {
   "cell_type": "code",
   "execution_count": null,
   "metadata": {
    "slideshow": {
     "slide_type": "fragment"
    }
   },
   "outputs": [],
   "source": [
    "# Sort List in descending order\n",
    "list1=[12,34,56,31,3,4,1]\n",
    "list1.sort(reverse=True)\n",
    "print(list1)"
   ]
  },
  {
   "cell_type": "markdown",
   "metadata": {
    "slideshow": {
     "slide_type": "slide"
    }
   },
   "source": [
    "### Nested List\n",
    "\n",
    "- **We can create list inside list. It is used to create matrix also**\n",
    "\n"
   ]
  },
  {
   "cell_type": "code",
   "execution_count": null,
   "metadata": {
    "slideshow": {
     "slide_type": "subslide"
    }
   },
   "outputs": [],
   "source": [
    "nested_list = [[10,20,30],[1,1,1],[2,2,2]]\n",
    "print(nested_list)\n"
   ]
  },
  {
   "cell_type": "code",
   "execution_count": null,
   "metadata": {
    "slideshow": {
     "slide_type": "fragment"
    }
   },
   "outputs": [],
   "source": [
    "# We can also append a list into list\n",
    "\n",
    "nested_list.append([4,4,4])\n",
    "print(nested_list)"
   ]
  },
  {
   "cell_type": "markdown",
   "metadata": {
    "slideshow": {
     "slide_type": "slide"
    }
   },
   "source": [
    "### Accesing value of nested list"
   ]
  },
  {
   "cell_type": "code",
   "execution_count": null,
   "metadata": {
    "slideshow": {
     "slide_type": "subslide"
    }
   },
   "outputs": [],
   "source": [
    "# print or access list from nested list\n",
    "print(nested_list[0])\n",
    "print(nested_list[1])"
   ]
  },
  {
   "cell_type": "code",
   "execution_count": null,
   "metadata": {
    "slideshow": {
     "slide_type": "fragment"
    }
   },
   "outputs": [],
   "source": [
    "# print individual element from nested list \n",
    "# In this example we print value of second list third value i.e 1\n",
    "print(nested_list[1][2])"
   ]
  },
  {
   "cell_type": "markdown",
   "metadata": {
    "slideshow": {
     "slide_type": "slide"
    }
   },
   "source": [
    "### for loop with list"
   ]
  },
  {
   "cell_type": "code",
   "execution_count": null,
   "metadata": {
    "slideshow": {
     "slide_type": "subslide"
    }
   },
   "outputs": [],
   "source": [
    "# Access list element via value\n",
    "colors=[\"red\",\"green\",\"yellow\",\"black\",\"blue\"]\n",
    "for color in colors:\n",
    "    print(color)"
   ]
  },
  {
   "cell_type": "code",
   "execution_count": null,
   "metadata": {
    "slideshow": {
     "slide_type": "subslide"
    }
   },
   "outputs": [],
   "source": [
    "# Access element via index\n",
    "colors=[\"red\",\"green\",\"yellow\",\"black\",\"blue\"]\n",
    "for i in range(len(colors)):\n",
    "    print(colors[i])\n"
   ]
  },
  {
   "cell_type": "code",
   "execution_count": null,
   "metadata": {
    "slideshow": {
     "slide_type": "fragment"
    }
   },
   "outputs": [],
   "source": [
    "# Access element via index\n",
    "colors=[\"red\",\"green\",\"yellow\",\"black\",\"blue\"]\n",
    "for i in range(len(colors)):\n",
    "    colors[i]=colors[i].title()\n",
    "print(colors)"
   ]
  },
  {
   "cell_type": "markdown",
   "metadata": {
    "slideshow": {
     "slide_type": "slide"
    }
   },
   "source": [
    "### for loop with Nested List"
   ]
  },
  {
   "cell_type": "code",
   "execution_count": null,
   "metadata": {
    "slideshow": {
     "slide_type": "subslide"
    }
   },
   "outputs": [],
   "source": [
    "matrix=[[1,1,1],[2,2,2],[3,3,3]]\n",
    "for i in range(len(matrix)): # len(matix) gives no of sub list/ object in list\n",
    "    for j in range(len(matrix[0])): # len(matrix[0]) gives number of object in matrix[0] \n",
    "        print(matrix[i][j],end=\" \")\n",
    "    print()"
   ]
  },
  {
   "cell_type": "markdown",
   "metadata": {
    "slideshow": {
     "slide_type": "slide"
    }
   },
   "source": [
    "### **Python List Comprehension :** : Elegant way to create new List\n",
    "\n",
    "- List comprehension is an elegant and concise way to create a new list from an existing list in Python.\n",
    "\n",
    "- List comprehension consists of an expression followed by for statement inside square brackets.\n",
    "\n",
    "- Here is an example to make a list with each item being increasing power of 2.\n",
    "\n",
    "    <p>output_list = [<span style=\"color: #ff0000;\"><strong>output_exp</strong></span> <strong><span style=\"color: #00ff00;\">for var in input_list</span> <span style=\"color: #0000ff;\">if (var satisfies this condition)</span></strong>]</p>"
   ]
  },
  {
   "cell_type": "code",
   "execution_count": null,
   "metadata": {
    "slideshow": {
     "slide_type": "subslide"
    }
   },
   "outputs": [],
   "source": [
    "# Example-1 Output: [1, 2, 4, 8, 16, 32, 64, 128, 256, 512]\n",
    "pow2 = [2 ** x for x in range(10)]\n",
    "print(pow2)"
   ]
  },
  {
   "cell_type": "code",
   "execution_count": null,
   "metadata": {
    "slideshow": {
     "slide_type": "fragment"
    }
   },
   "outputs": [],
   "source": [
    "# This code is equivalent to:\n",
    "pow2 = []\n",
    "for x in range(10):\n",
    "    pow2.append(2 ** x)\n",
    "print(pow2)"
   ]
  },
  {
   "cell_type": "code",
   "execution_count": null,
   "metadata": {
    "slideshow": {
     "slide_type": "subslide"
    }
   },
   "outputs": [],
   "source": [
    "# Example-2 Output: [1,3,5,7,9]\n",
    "list1=[1,2,3,4,5,6,7,8,9]\n",
    "output_list = [x for x in list1 if x%2==1]\n",
    "print(output_list)"
   ]
  },
  {
   "cell_type": "markdown",
   "metadata": {
    "slideshow": {
     "slide_type": "slide"
    }
   },
   "source": [
    "### **Python map()**\n",
    "\n",
    "- The map() function applies a given function to each item of an iterable (list, tuple etc.) and returns a list of the results.\n",
    "\n",
    "The syntax of map() is:\n",
    " > map(function, iterable, ...)"
   ]
  },
  {
   "cell_type": "markdown",
   "metadata": {
    "slideshow": {
     "slide_type": "subslide"
    }
   },
   "source": [
    "<h3>map() Parameter</h3>\n",
    "<ul>\n",
    "<li><strong>function</strong>&nbsp;- map() passes each item of the&nbsp;<var>iterable</var>&nbsp;to this function.</li>\n",
    "<li><strong>iterable</strong>&nbsp;iterable which is to be mapped</li>\n",
    "</ul>\n",
    "<p>You can pass more than one&nbsp;<var>iterable</var>&nbsp;to the map() function.</p>\n",
    "\n",
    "**Return Value from map():**\n",
    "\n",
    "- The map() function applies a given to function to each item of an iterable and returns a list of the results.\n",
    "\n",
    "- The returned value from map() (map object) then can be passed to functions like list() (to create a list), set() (to create a set) and so on."
   ]
  },
  {
   "cell_type": "markdown",
   "metadata": {
    "slideshow": {
     "slide_type": "subslide"
    }
   },
   "source": [
    "### How map() works?"
   ]
  },
  {
   "cell_type": "code",
   "execution_count": null,
   "metadata": {
    "slideshow": {
     "slide_type": "fragment"
    }
   },
   "outputs": [],
   "source": [
    "def calculateSquare(n):\n",
    "    return n*n\n",
    "\n",
    "numbers = [1, 2, 3, 4]\n",
    "result = map(calculateSquare, numbers)\n",
    "print(result)\n",
    "\n",
    "\n",
    "# converting map object to set\n",
    "numbersSquare = list(result)\n",
    "print(numbersSquare)"
   ]
  },
  {
   "cell_type": "markdown",
   "metadata": {
    "slideshow": {
     "slide_type": "subslide"
    }
   },
   "source": [
    "Since map() expects a function to be passed in, lambda functions are commonly used while working with map() functions.\n",
    "\n",
    "A lambda function is a function without a name. \n",
    "### How to use lambda function with map()?"
   ]
  },
  {
   "cell_type": "code",
   "execution_count": null,
   "metadata": {
    "slideshow": {
     "slide_type": "fragment"
    }
   },
   "outputs": [],
   "source": [
    "#How to use lambda function with map()?\n",
    "\n",
    "numbers = [1, 2, 3, 4]\n",
    "result = map(lambda x: x*x, numbers)\n",
    "print(result)\n",
    "\n",
    "# converting map object to set\n",
    "numbersSquare = list(result)\n",
    "print(numbersSquare)"
   ]
  },
  {
   "cell_type": "markdown",
   "metadata": {
    "slideshow": {
     "slide_type": "slide"
    }
   },
   "source": [
    "### filter()\n",
    "\n",
    "- The filter() method constructs an iterator from elements of an iterable for which a function returns true.\n",
    "\n",
    "- In simple words, the filter() method filters the given iterable with the help of a function that tests each element in the iterable to be true or not.\n",
    "\n",
    "- The syntax of filter() method is:\n",
    "\n",
    " > filter(function, iterable)\n"
   ]
  },
  {
   "cell_type": "markdown",
   "metadata": {
    "slideshow": {
     "slide_type": "subslide"
    }
   },
   "source": [
    " **filter() Parameters**\n",
    "\n",
    "The filter() method takes two parameters:\n",
    "\n",
    "<ul>\n",
    "<li><strong>function</strong>&nbsp;- function that tests if elements of an iterable returns true or false<br />If None, the function defaults to Identity function - which returns false if any elements are false</li>\n",
    "<li><strong>iterable</strong>&nbsp;- iterable which is to be filtered, could be list , tuple, set etc..."
   ]
  },
  {
   "cell_type": "markdown",
   "metadata": {
    "slideshow": {
     "slide_type": "subslide"
    }
   },
   "source": [
    "### **Return value from filter()**\n",
    "\n",
    "The filter() method returns an iterator that passed the function check for each element in the iterable.\n",
    "\n",
    "The filter() method is equivalent to:\n",
    "\n",
    "**when function is defined**\n",
    "\n",
    "(element for element in iterable if function(element))\n",
    "\n",
    "**when function is None**\n",
    "\n",
    "(element for element in iterable if element)"
   ]
  },
  {
   "cell_type": "code",
   "execution_count": null,
   "metadata": {
    "slideshow": {
     "slide_type": "subslide"
    }
   },
   "outputs": [],
   "source": [
    "def filter_funtion(x):\n",
    "    if x in \"aeiou\":\n",
    "        return True\n",
    "    else:\n",
    "        return False\n",
    "\n",
    "name=\"rabindranath tagore\"\n",
    "filter_vowels=filter(filter_funtion,name)\n",
    "\n",
    "print(list(filter_vowels))"
   ]
  },
  {
   "cell_type": "markdown",
   "metadata": {
    "slideshow": {
     "slide_type": "fragment"
    }
   },
   "source": [
    "We have a function filter_function that checks if an alphabet is a vowel or not. This function is passed onto the filter() method with string.\n",
    "\n",
    "The filter() method then passes each alphabet to the filter_function() method to check if it returns true or not. In the end, it creates an iterator of the ones that return true (vowels)."
   ]
  },
  {
   "cell_type": "markdown",
   "metadata": {},
   "source": [
    "## Dictionary\n",
    "\n",
    "A dictionary in Python is a collection of items accessed by a specific key rather than by index.\n",
    "- Imagine a dictionary in the real world... when you need to look up the meaning of a word, you try to find the meaning using the word itself and not the possible index of the word. \n",
    "- Python dictionaries work with the same concept.\n",
    "\n",
    "### A dictionary is a collection which is unordered, changeable and indexed.\n",
    "### In Python dictionaries are written with curly brackets, and they have keys and values.\n",
    "\n",
    "   ### Syntax\n",
    "                {key:values , key:values , key:values}\n",
    "\n",
    "   > <h3>a = {'apple': 'fruit', 'beetroot': 'vegetable', 'cake': 'dessert'}</h3>\n",
    "   \n",
    "   \n",
    "   "
   ]
  },
  {
   "cell_type": "markdown",
   "metadata": {},
   "source": [
    "### Creating an empty Dictionary \n",
    "When you don’t know what key-value pairs go in your Python dictionary,  you can just create an empty Python dict, and add pairs later."
   ]
  },
  {
   "cell_type": "code",
   "execution_count": null,
   "metadata": {},
   "outputs": [],
   "source": [
    "day={}\n",
    "type(day)"
   ]
  },
  {
   "cell_type": "markdown",
   "metadata": {},
   "source": [
    "### Adding elements"
   ]
  },
  {
   "cell_type": "code",
   "execution_count": null,
   "metadata": {},
   "outputs": [],
   "source": [
    "day[1]=\"monday\"\n",
    "day[4]=\"Thursday\"\n",
    "print(day)\n",
    "# In this example 1 and 4 are keys and 'monday',Thursday are values"
   ]
  },
  {
   "cell_type": "markdown",
   "metadata": {},
   "source": [
    "### Accessing a value\n",
    "- Python dictionary is unordered. So to get a value from it, you need to put its key in square brackets."
   ]
  },
  {
   "cell_type": "code",
   "execution_count": null,
   "metadata": {},
   "outputs": [],
   "source": [
    "a = {'apple': 'fruit', 'beetroot': 'vegetable', 'cake': 'dessert'}\n",
    "print(a['apple'])"
   ]
  },
  {
   "cell_type": "markdown",
   "metadata": {},
   "source": [
    "### Updating the Value of an Existing Key\n",
    "- If the key already exists in the Python dictionary, you can reassign its value using square brackets"
   ]
  },
  {
   "cell_type": "code",
   "execution_count": null,
   "metadata": {},
   "outputs": [],
   "source": [
    "dict1={1:1,2:4,3:9,4:16}\n",
    "print(\"My dictionary before update\",dict1)\n",
    "# Update\n",
    "dict1[1]=100\n",
    "print(\"My dictionary after update\",dict1)"
   ]
  },
  {
   "cell_type": "markdown",
   "metadata": {},
   "source": [
    "### Adding a new key\n",
    "- However, if the key doesn’t already exist in the dictionary, then it adds a new one."
   ]
  },
  {
   "cell_type": "code",
   "execution_count": null,
   "metadata": {},
   "outputs": [],
   "source": [
    "dict1={1: 'monday', 4: 'Thursday'}\n",
    "print(\"Before\",dict1)\n",
    "#Adding new key\n",
    "dict1[2]=\"Tuesday\"\n",
    "print(\"After\",dict1)"
   ]
  },
  {
   "cell_type": "markdown",
   "metadata": {},
   "source": [
    "### Delete Python Dictionary\n",
    "\n",
    "#### Deleting a single key-value pair\n",
    "\n",
    "To delete just one key-value pair, use the keyword ‘del’ with the key of the pair to delete.\n",
    "- e.g. \n",
    "    - del dict1[1]\n",
    "\n",
    "#### Deleting an entire Python dictionary\n",
    "To delete the whole Python dict, simply use its name after the keyword ‘del’\n",
    "- e.g.\n",
    "    - del dict"
   ]
  },
  {
   "cell_type": "code",
   "execution_count": null,
   "metadata": {},
   "outputs": [],
   "source": [
    "# Deleting a single key-value pair\n",
    "dict1={1:1,2:4,3:9,4:16,5:25,6:36}\n",
    "print(\"Before Deletion\",dict1)\n",
    "del dict1[1]\n",
    "print(\"After Deletion\",dict1)"
   ]
  },
  {
   "cell_type": "code",
   "execution_count": null,
   "metadata": {},
   "outputs": [],
   "source": [
    "dict1 = {\"Name\":\"Rahul\" , \"Age\":24 , \"Branch\":\"ECE\",\"Section\":\"B\"}\n",
    "dict1[\"Age\"]=20\n",
    "print(dict1)"
   ]
  },
  {
   "cell_type": "code",
   "execution_count": null,
   "metadata": {},
   "outputs": [],
   "source": [
    "dict1 = {\"Name\":\"Rahul\" ,(\"marks1\",\"Marks2\"):[45,56]}\n",
    "print(dict1)"
   ]
  },
  {
   "cell_type": "markdown",
   "metadata": {},
   "source": [
    "### Methods with Description\n",
    "\n",
    "#### 1. dict.clear()\n",
    "- Removes all elements of dictionary dict."
   ]
  },
  {
   "cell_type": "code",
   "execution_count": null,
   "metadata": {},
   "outputs": [],
   "source": [
    "dict1={\"Name\":\"Ram\",\"Age\":34,\"City\":\"Ghaziabad\",\"Contact\":[9711001100,9911001100]}\n",
    "print(\"Before clear\",dict1)\n",
    "dict1.clear()\n",
    "print(\"After Clear\",dict1)"
   ]
  },
  {
   "cell_type": "markdown",
   "metadata": {},
   "source": [
    "#### 2. dict.copy()\n",
    "- Returns a shallow copy of dictionary dict."
   ]
  },
  {
   "cell_type": "code",
   "execution_count": null,
   "metadata": {},
   "outputs": [],
   "source": [
    "dict1={\"Name\":\"Ram\",\"Age\":34,\"City\":\"Ghaziabad\",\"Contact\":[9711001100,9911001100]}\n",
    "dict2=dict1.copy()\n",
    "print(dict2)"
   ]
  },
  {
   "cell_type": "markdown",
   "metadata": {},
   "source": [
    "#### 3. dict.fromkeys()\n",
    "- Create a new dictionary with keys from seq and values set to value."
   ]
  },
  {
   "cell_type": "code",
   "execution_count": 2,
   "metadata": {},
   "outputs": [
    {
     "data": {
      "text/plain": [
       "{'Name': None, 'Age': None, 'City': None}"
      ]
     },
     "execution_count": 2,
     "metadata": {},
     "output_type": "execute_result"
    }
   ],
   "source": [
    "key=[\"Name\",\"Age\",\"City\"]\n",
    "value=None\n",
    "dict1={}\n",
    "dict1.fromkeys(key,value)"
   ]
  },
  {
   "cell_type": "markdown",
   "metadata": {},
   "source": [
    "#### 4. dict.get(key1, default=None)\n",
    "- For key key1, returns value or default if key not in dictionary."
   ]
  },
  {
   "cell_type": "code",
   "execution_count": null,
   "metadata": {},
   "outputs": [],
   "source": [
    "dict1={\"Name\":\"Ram\",\"Age\":34,\"City\":\"Ghaziabad\",\"Contact\":[9711001100,9911001100]}\n",
    "print(dict1.get(\"Name\"))\n",
    "print(dict1.get(\"Contact\"))"
   ]
  },
  {
   "cell_type": "markdown",
   "metadata": {},
   "source": [
    "#### 5. dict.items()\n",
    "- Returns a list of dict's (key, value) tuple pairs."
   ]
  },
  {
   "cell_type": "code",
   "execution_count": null,
   "metadata": {},
   "outputs": [],
   "source": [
    "dict1={\"Name\":\"Ram\",\"Age\":34,\"City\":\"Ghaziabad\",\"Contact\":[9711001100,9911001100]}\n",
    "print(dict1.items())"
   ]
  },
  {
   "cell_type": "markdown",
   "metadata": {},
   "source": [
    "#### 6. dict.keys()\n",
    "- Returns list of dictionary dict's keys."
   ]
  },
  {
   "cell_type": "code",
   "execution_count": null,
   "metadata": {},
   "outputs": [],
   "source": [
    "dict1={\"Name\":\"Ram\",\"Age\":34,\"City\":\"Ghaziabad\",\"Contact\":[9711001100,9911001100]}\n",
    "print(dict1.keys())"
   ]
  },
  {
   "cell_type": "markdown",
   "metadata": {},
   "source": [
    "#### 7. dict.update(dict2)\n",
    "- Adds dictionary dict2's key-values pairs to dict."
   ]
  },
  {
   "cell_type": "code",
   "execution_count": null,
   "metadata": {},
   "outputs": [],
   "source": [
    "dict1={1:1,2:4,3:9}\n",
    "dict2={4:16,5:25,6:36,7:49}\n",
    "dict1.update(dict2)\n",
    "print(dict1)"
   ]
  },
  {
   "cell_type": "markdown",
   "metadata": {},
   "source": [
    "#### 8. dict.values()\n",
    "- Returns list of dictionary dict's values."
   ]
  },
  {
   "cell_type": "code",
   "execution_count": null,
   "metadata": {},
   "outputs": [],
   "source": [
    "dict1={\"Name\":\"Ram\",\"Age\":34,\"City\":\"Ghaziabad\",\"Contact\":[9711001100,9911001100]}\n",
    "print(dict1.values())"
   ]
  },
  {
   "cell_type": "markdown",
   "metadata": {},
   "source": [
    "# Sets\n",
    "\n",
    "## What is a set\n",
    "Set in Python is a data structure equivalent to sets in mathematics.\n",
    "\n",
    "- A set is an unordered collection of items. \n",
    "- Every element is unique (no duplicates) and must be immutable (which cannot be changed).\n",
    "\n",
    "- However, the set itself is mutable. We can add or remove items from it.\n",
    "\n",
    "- You can add and delete elements of a set, \n",
    "- you can iterate the elements of the set, \n",
    "- you can perform standard operations on sets (union, intersection, difference). \n",
    "- Besides that, you can check if an element belongs to a set."
   ]
  },
  {
   "cell_type": "markdown",
   "metadata": {},
   "source": [
    "### Creating a SET\n",
    "\n",
    "- A set is created by using the set() function or \n",
    "- placing all the elements within a pair of curly braces."
   ]
  },
  {
   "cell_type": "code",
   "execution_count": null,
   "metadata": {},
   "outputs": [],
   "source": [
    "#Creating set by using set()\n",
    "l=[1,2,1,2,2,2,234.4,\"abes\"]\n",
    "set(l)"
   ]
  },
  {
   "cell_type": "code",
   "execution_count": null,
   "metadata": {},
   "outputs": [],
   "source": [
    "# Every element is unique (no duplicates) \n",
    "set2={1,1,2,3,4,5,4}\n",
    "print(set2)\n"
   ]
  },
  {
   "cell_type": "code",
   "execution_count": null,
   "metadata": {},
   "outputs": [],
   "source": [
    "s=set(\"abes\")\n",
    "print(s)"
   ]
  },
  {
   "cell_type": "code",
   "execution_count": null,
   "metadata": {},
   "outputs": [],
   "source": [
    "str=\"abes engg\"\n",
    "s1=set(str)\n",
    "print(s1)"
   ]
  },
  {
   "cell_type": "markdown",
   "metadata": {},
   "source": [
    "### Creating empty set"
   ]
  },
  {
   "cell_type": "code",
   "execution_count": null,
   "metadata": {},
   "outputs": [],
   "source": [
    "a=set()\n",
    "type(a)"
   ]
  },
  {
   "cell_type": "markdown",
   "metadata": {},
   "source": [
    "### Accessing Values in a Set\n",
    "\n",
    "- Sets are mutable. But since they are unordered, indexing have no meaning.\n",
    "\n",
    "- We cannot access or change an element of set using indexing or slicing.Set does not support it.\n"
   ]
  },
  {
   "cell_type": "markdown",
   "metadata": {},
   "source": [
    "### Adding Items to a Set\n",
    "\n",
    "- We can add single element using the add() method \n",
    "- Multiple elements using the update()"
   ]
  },
  {
   "cell_type": "code",
   "execution_count": null,
   "metadata": {},
   "outputs": [],
   "source": [
    "set1=set()\n",
    "print(set1)\n",
    "# Add element\n",
    "set1.add(12)\n",
    "set1.add(34)\n",
    "print(set1)\n",
    "\n",
    "#Adding Group of element\n",
    "\n",
    "set1.update([1,2,3])\n",
    "print(set1)"
   ]
  },
  {
   "cell_type": "markdown",
   "metadata": {},
   "source": [
    "### Removing Item from a Set\n",
    "\n",
    "- A particular item can be removed from set using methods, discard() and remove().\n",
    "\n",
    "- The only difference between the two is that, while using discard() if the item does not exist in the set, it remains unchanged. \n",
    "- But remove() will raise an error in such condition."
   ]
  },
  {
   "cell_type": "code",
   "execution_count": null,
   "metadata": {},
   "outputs": [],
   "source": [
    "# initialize my_set\n",
    "my_set = {1, 3, 4, 5, 6}\n",
    "print(\"Myset :  \",my_set)\n",
    "\n",
    "# discard an element\n",
    "my_set.discard(4)\n",
    "print(\"Myset After discard :  \",my_set)\n",
    "\n",
    "# remove an element\n",
    "my_set.remove(6)\n",
    "print(\"Myset after remove   \",my_set)\n"
   ]
  },
  {
   "cell_type": "code",
   "execution_count": null,
   "metadata": {},
   "outputs": [],
   "source": [
    "# discard an element i.e. not present in my_set\n",
    "# initialize my_set\n",
    "my_set = {1, 3, 4, 5, 6}\n",
    "print(\"Myset :\",my_set)\n",
    "\n",
    "my_set.discard(2)\n",
    "print(\"Myset After discard the element which is not present :   \",my_set)\n",
    "\n",
    "my_set.remove(2)\n",
    "\n",
    "# Output: KeyError: 2"
   ]
  },
  {
   "cell_type": "markdown",
   "metadata": {},
   "source": [
    "### we can remove and return an item \n",
    "\n",
    "using the pop() method\n",
    "\n",
    "- Set being unordered, <b>there is no way of determining which item will be popped</b>. \n",
    "- It is completely arbitrary."
   ]
  },
  {
   "cell_type": "markdown",
   "metadata": {},
   "source": [
    "### Python Set Operations\n",
    "\n",
    "<style type=\"text/css\">\n",
    ".tg  {border-collapse:collapse;border-spacing:0;}\n",
    ".tg td{font-family:Arial, sans-serif;font-size:14px;padding:10px 5px;border-style:solid;border-width:1px;overflow:hidden;word-break:normal;border-color:black;}\n",
    ".tg th{font-family:Arial, sans-serif;font-size:14px;font-weight:normal;padding:10px 5px;border-style:solid;border-width:1px;overflow:hidden;word-break:normal;border-color:black;}\n",
    ".tg .tg-0pky{border-color:inherit;text-align:left;vertical-align:top}\n",
    ".tg .tg-0lax{text-align:left;vertical-align:top}\n",
    "</style>\n",
    "<table class=\"tg\">\n",
    "  <tr>\n",
    "    <th class=\"tg-0pky\">Operation Name</th>\n",
    "    <th class=\"tg-0pky\">Operation Symbol</th>\n",
    "    <th class=\"tg-0pky\">Method Equivalent to symbol</th>\n",
    "    <th class=\"tg-0pky\">Description</th>\n",
    "  </tr>\n",
    "  <tr>\n",
    "    <td class=\"tg-0pky\">Union</td>\n",
    "    <td class=\"tg-0pky\">A | B</td>\n",
    "    <td class=\"tg-0pky\">A.union(B)</td>\n",
    "    <td class=\"tg-0pky\">Returns a set which is the union of sets A and B.</td>\n",
    "  </tr>\n",
    "  <tr>\n",
    "    <td class=\"tg-0pky\">Update</td>\n",
    "    <td class=\"tg-0pky\">A |= B</td>\n",
    "    <td class=\"tg-0pky\">A.update(B)</td>\n",
    "    <td class=\"tg-0pky\">Adds all elements of array B to the set A.</td>\n",
    "  </tr>\n",
    "  <tr>\n",
    "    <td class=\"tg-0pky\">Intersection</td>\n",
    "    <td class=\"tg-0pky\">A &amp; B</td>\n",
    "    <td class=\"tg-0pky\">A.intersection(B)</td>\n",
    "    <td class=\"tg-0pky\">Returns a set which is the intersection of sets A and B.</td>\n",
    "  </tr>\n",
    "  <tr>\n",
    "    <td class=\"tg-0lax\">Intersection Update</td>\n",
    "    <td class=\"tg-0lax\">A &amp;= B</td>\n",
    "    <td class=\"tg-0lax\">A.intersection_update(B)</td>\n",
    "    <td class=\"tg-0lax\">Leaves in the set A only items that belong to the set B.</td>\n",
    "  </tr>\n",
    "  <tr>\n",
    "    <td class=\"tg-0lax\">Difference</td>\n",
    "    <td class=\"tg-0lax\">A - B</td>\n",
    "    <td class=\"tg-0lax\">A.difference(B)</td>\n",
    "    <td class=\"tg-0lax\">Returns the set difference of A and B (the elements included in A, but not included in B).</td>\n",
    "  </tr>\n",
    "  <tr>\n",
    "    <td class=\"tg-0lax\">differnece Update</td>\n",
    "    <td class=\"tg-0lax\">A -= B</td>\n",
    "    <td class=\"tg-0lax\">A.difference_update(B)</td>\n",
    "    <td class=\"tg-0lax\">Removes all elements of B from the set A.</td>\n",
    "  </tr>\n",
    "  <tr>\n",
    "    <td class=\"tg-0lax\">Symmetric difference</td>\n",
    "    <td class=\"tg-0lax\">A ^ B</td>\n",
    "    <td class=\"tg-0lax\">A.symmetric_difference(B)</td>\n",
    "    <td class=\"tg-0lax\">Returns the symmetric difference of sets A and B (the elements belonging to either A or B, but not to both sets simultaneously).</td>\n",
    "  </tr>\n",
    "  <tr>\n",
    "    <td class=\"tg-0lax\">Symmetric difference update</td>\n",
    "    <td class=\"tg-0lax\">A ^= B</td>\n",
    "    <td class=\"tg-0lax\">A.symmetric_difference_update(B)</td>\n",
    "    <td class=\"tg-0lax\">Writes in A the symmetric difference of sets A and B.</td>\n",
    "  </tr>\n",
    "  <tr>\n",
    "    <td class=\"tg-0lax\">Is Subset</td>\n",
    "    <td class=\"tg-0lax\">A &lt;= B</td>\n",
    "    <td class=\"tg-0lax\">A.issubset(B)</td>\n",
    "    <td class=\"tg-0lax\">Returns true if A is a subset of B.</td>\n",
    "  </tr>\n",
    "  <tr>\n",
    "    <td class=\"tg-0lax\">Is Superset</td>\n",
    "    <td class=\"tg-0lax\">A &gt;= B</td>\n",
    "    <td class=\"tg-0lax\">A.issuperset(B)</td>\n",
    "    <td class=\"tg-0lax\">Returns true if B is a subset of A.</td>\n",
    "  </tr>\n",
    "  <tr>\n",
    "    <td class=\"tg-0lax\">Equivalent</td>\n",
    "    <td class=\"tg-0lax\">A &lt; B</td>\n",
    "    <td class=\"tg-0lax\">---</td>\n",
    "    <td class=\"tg-0lax\">Equivalent to A &lt;= B and A != B</td>\n",
    "  </tr>\n",
    "  <tr>\n",
    "    <td class=\"tg-0lax\">Equivalent to</td>\n",
    "    <td class=\"tg-0lax\">A &gt; B</td>\n",
    "    <td class=\"tg-0lax\">---</td>\n",
    "    <td class=\"tg-0lax\">Equivalent to A &gt;= B and A != B</td>\n",
    "  </tr>\n",
    "</table>"
   ]
  },
  {
   "attachments": {
    "image.png": {
     "image/png": "[encoded data removed]"
    }
   },
   "cell_type": "markdown",
   "metadata": {},
   "source": [
    "### Set Union\n",
    "![image.png](attachment:image.png)"
   ]
  },
  {
   "cell_type": "code",
   "execution_count": null,
   "metadata": {},
   "outputs": [],
   "source": [
    "# initialize A and B\n",
    "A = {1, 2, 3, 4, 5}\n",
    "B = {4, 5, 6, 7, 8}\n",
    "\n",
    "# use | operator\n",
    "print(A | B)\n",
    "\n",
    "#Use Union Method\n",
    "print(A.union(B))"
   ]
  },
  {
   "attachments": {
    "image.png": {
     "image/png": "[encoded data removed]"
    }
   },
   "cell_type": "markdown",
   "metadata": {},
   "source": [
    "### Set Intersection\n",
    "![image.png](attachment:image.png)"
   ]
  },
  {
   "cell_type": "code",
   "execution_count": null,
   "metadata": {},
   "outputs": [],
   "source": [
    "# initialize A and B\n",
    "A = {1, 2, 3, 4, 5}\n",
    "B = {4, 5, 6, 7, 8}\n",
    "\n",
    "# use & operator\n",
    "print(A & B)\n",
    "\n",
    "#use intersection Method\n",
    "print(A.intersection(B))"
   ]
  },
  {
   "attachments": {
    "image.png": {
     "image/png": "[encoded data removed]"
    }
   },
   "cell_type": "markdown",
   "metadata": {},
   "source": [
    "### Set Difference\n",
    "![image.png](attachment:image.png)\n",
    "\n",
    "Difference of A and B (A - B) is a set of elements that are only in A but not in B"
   ]
  },
  {
   "cell_type": "code",
   "execution_count": null,
   "metadata": {},
   "outputs": [],
   "source": [
    "# initialize A and B\n",
    "A = {1, 2, 3, 4, 5}\n",
    "B = {4, 5, 6, 7, 8}\n",
    "\n",
    "# use - operator on A\n",
    "print(A - B)\n",
    "\n",
    "# use Difference Method\n",
    "print(A.difference(B))"
   ]
  },
  {
   "attachments": {
    "image.png": {
     "image/png": "[encoded data removed]"
    }
   },
   "cell_type": "markdown",
   "metadata": {},
   "source": [
    "### Set Symmetric Difference\n",
    "\n",
    "![image.png](attachment:image.png)\n",
    "Symmetric Difference of A and B is a set of elements in both A and B except those that are common in both."
   ]
  },
  {
   "cell_type": "code",
   "execution_count": null,
   "metadata": {},
   "outputs": [],
   "source": [
    "#initialize A and B\n",
    "A = {1, 2, 3, 4, 5}\n",
    "B = {4, 5, 6, 7, 8}\n",
    "\n",
    "# use ^ operator\n",
    "print(A ^ B)\n",
    "\n",
    "#Use of symmetric_difference Method\n",
    "\n",
    "print(A.symmetric_difference(B))"
   ]
  },
  {
   "cell_type": "markdown",
   "metadata": {},
   "source": [
    "### Functions on Sets\n",
    "- A function is something that you can apply to a Python set, and it performs operations on it and returns a value. "
   ]
  },
  {
   "cell_type": "markdown",
   "metadata": {},
   "source": [
    "### len()\n",
    "\n",
    "- The len() function returns the length of a set. This is the number of elements in it."
   ]
  },
  {
   "cell_type": "code",
   "execution_count": null,
   "metadata": {},
   "outputs": [],
   "source": [
    "days={'Monday','Tuesday','Wednesday','Thursday','Friday','Saturday','Sunday'}\n",
    "len(days)"
   ]
  },
  {
   "cell_type": "markdown",
   "metadata": {},
   "source": [
    "### max()\n",
    "\n",
    "- This function returns the item from the set with the highest value."
   ]
  },
  {
   "cell_type": "code",
   "execution_count": null,
   "metadata": {},
   "outputs": [],
   "source": [
    "numbers={12,34,56,7,65,32}\n",
    "max(numbers)"
   ]
  },
  {
   "cell_type": "code",
   "execution_count": null,
   "metadata": {},
   "outputs": [],
   "source": [
    "max(days)"
   ]
  },
  {
   "cell_type": "markdown",
   "metadata": {},
   "source": [
    "### min()\n",
    "\n",
    "- Like the max() function, the min() function returns the item in the Python set with the lowest value."
   ]
  },
  {
   "cell_type": "code",
   "execution_count": null,
   "metadata": {},
   "outputs": [],
   "source": [
    "numbers={12,34,56,7,65,32}\n",
    "min(numbers)"
   ]
  },
  {
   "cell_type": "markdown",
   "metadata": {},
   "source": [
    "### sum()\n",
    "\n",
    "- The sum() functionin Python set returns the arithmetic sum of all the items in a set."
   ]
  },
  {
   "cell_type": "code",
   "execution_count": null,
   "metadata": {},
   "outputs": [],
   "source": [
    "numbers={2,4,6,7,5,3}\n",
    "sum(numbers)"
   ]
  },
  {
   "cell_type": "markdown",
   "metadata": {},
   "source": [
    "### any()\n",
    "\n",
    "- This function returns True even if one item in the set has a Boolean value of True."
   ]
  },
  {
   "cell_type": "code",
   "execution_count": null,
   "metadata": {},
   "outputs": [],
   "source": [
    "set1={12,3,4,0,1}\n",
    "any(set1)"
   ]
  },
  {
   "cell_type": "code",
   "execution_count": null,
   "metadata": {},
   "outputs": [],
   "source": [
    "set1={0,0,0}\n",
    "any(set1)"
   ]
  },
  {
   "cell_type": "markdown",
   "metadata": {},
   "source": [
    "### sorted()\n",
    "\n",
    "- The sorted() function returns a sorted python set to list. It is sorted in ascending order, but it doesn’t modify the original set."
   ]
  },
  {
   "cell_type": "code",
   "execution_count": null,
   "metadata": {},
   "outputs": [],
   "source": [
    "numbers={1, 2, 3, 4, 5, 6, 3.5}\n",
    "sorted(numbers)"
   ]
  },
  {
   "cell_type": "markdown",
   "metadata": {},
   "source": [
    "### Iteration on set\n"
   ]
  },
  {
   "cell_type": "code",
   "execution_count": null,
   "metadata": {},
   "outputs": [],
   "source": [
    "my_set={14,24,34,44,54,64}\n",
    "for i in my_set:\n",
    "    print(i)"
   ]
  },
  {
   "cell_type": "markdown",
   "metadata": {},
   "source": [
    "# Tuple\n",
    "\n",
    "## What is a Tuple \n",
    "\n",
    "- A tuple is an immutable sequence of Python objects\n",
    "- Tuples are sequences, just like lists. The difference between the list and tuple is, tuple can not be changes unlike lists, whereas tuple uses parantheses, while list uses square bracket\n",
    "- A tuple value looks like this -- tup=(1,2,3,'python','class')"
   ]
  },
  {
   "cell_type": "markdown",
   "metadata": {},
   "source": [
    "### Creating a Tuple \n",
    "\n",
    "- **A tuple is created by placing all the items inside parantheses (), separated by commas**"
   ]
  },
  {
   "cell_type": "code",
   "execution_count": null,
   "metadata": {},
   "outputs": [],
   "source": [
    "# Method -1\n",
    "name_of_tup=()\n",
    "print(name_of_tup)\n",
    "\n",
    "# Method -2\n",
    "name_of_tup1=tuple()\n",
    "print(name_of_tup1)\n"
   ]
  },
  {
   "cell_type": "markdown",
   "metadata": {},
   "source": [
    "##### To check the type of varible, we use type() command"
   ]
  },
  {
   "cell_type": "code",
   "execution_count": null,
   "metadata": {},
   "outputs": [],
   "source": [
    "type(name_of_tup)\n",
    "type(name_of_tup1)"
   ]
  },
  {
   "cell_type": "code",
   "execution_count": null,
   "metadata": {},
   "outputs": [],
   "source": [
    "# even_number is a list of even number\n",
    "even_number=(102,104,106,108,110,112,114,116)\n",
    "print(even_number)"
   ]
  },
  {
   "cell_type": "code",
   "execution_count": null,
   "metadata": {},
   "outputs": [],
   "source": [
    "# fruits is a list of some Fruits\n",
    "fruits=(\"apple\",\"mango\",\"banana\",\"kiwi\")\n",
    "print(fruits)"
   ]
  },
  {
   "cell_type": "markdown",
   "metadata": {},
   "source": [
    "### Access Python Tuple"
   ]
  },
  {
   "cell_type": "code",
   "execution_count": null,
   "metadata": {},
   "outputs": [],
   "source": [
    "#To access a Python tuple as a whole, all you need is its name.\n",
    "fruits=(\"apple\",\"mango\",\"banana\",\"kiwi\")\n",
    "print(fruits)\n",
    "\n",
    "# To access a single element, use its index in square brackets\n",
    "\n",
    "print(fruits[0])\n",
    "print(fruits[2])"
   ]
  },
  {
   "cell_type": "markdown",
   "metadata": {},
   "source": [
    "### Slicing a Python Tuples\n",
    "\n",
    "    When you want only a part of a Python tuple, you can use the slicing operator []\n",
    "    \n",
    "> Syntax\n",
    "- nameoftuple [starting index : ending index]\n",
    "\n",
    "Starting index is included but ending index is excluded"
   ]
  },
  {
   "cell_type": "code",
   "execution_count": null,
   "metadata": {},
   "outputs": [],
   "source": [
    "# It slice list from index 1 t0 2-1(i.e 1)\n",
    "print(fruits[0:2])"
   ]
  },
  {
   "cell_type": "markdown",
   "metadata": {},
   "source": [
    "### Reassigning Tuple Value"
   ]
  },
  {
   "cell_type": "code",
   "execution_count": null,
   "metadata": {},
   "outputs": [],
   "source": [
    "print(\"Befor upadate tuple is \",fruits)\n",
    "fruits[1]=\"pineapple\"\n",
    "print(\"After updating lindex 2 value tuple is\",fruits)\n",
    "\n",
    "# We can not reassign a value into the tuple, as it is immutable data type, we can not change the value. Here we will get *TypeError*"
   ]
  },
  {
   "cell_type": "markdown",
   "metadata": {},
   "source": [
    "### Deleting an  element from tuple"
   ]
  },
  {
   "cell_type": "code",
   "execution_count": null,
   "metadata": {},
   "outputs": [],
   "source": [
    "print(fruits)\n",
    "del fruits[2]\n",
    "print(fruits)\n",
    "\n",
    "# We also can not delete an element from the tuple, as it is immutable"
   ]
  },
  {
   "cell_type": "markdown",
   "metadata": {},
   "source": [
    "### Operators used on Tuple\n",
    "\n",
    "- Concatenation\n",
    "- Membership Operator\n",
    "- Iteration through a Tuple"
   ]
  },
  {
   "cell_type": "code",
   "execution_count": null,
   "metadata": {},
   "outputs": [],
   "source": [
    "# Concatenation\n",
    "my_tuple1=(1,2,3,'python')\n",
    "my_tuple2=(4,5,'jack',4.5)\n",
    "my_tuple3=my_tuple1+my_tuple2\n",
    "print(my_tuple3)\n",
    "\n",
    "# Membership Operator\n",
    "my_tuple4 = ('a', 'p', 'p', 'l', 'e',)\n",
    "\n",
    "# In operation\n",
    "print('a' in my_tuple4)\n",
    "print('b' in my_tuple4)\n",
    "\n",
    "# Not in operation\n",
    "print('g' not in my_tuple4)\n"
   ]
  },
  {
   "cell_type": "markdown",
   "metadata": {},
   "source": [
    "##### Iterating through a tuple\n",
    "\n",
    "- We can use for loop to iterate through a tuple\n"
   ]
  },
  {
   "cell_type": "code",
   "execution_count": null,
   "metadata": {},
   "outputs": [],
   "source": [
    "# Using a for loop to iterate through a tuple\n",
    "for name in ('Subhash', 'Sardar'):\n",
    "    print(\"Hello\", name)"
   ]
  },
  {
   "cell_type": "markdown",
   "metadata": {},
   "source": [
    "### Built-in Tuple Functions\n",
    "\n",
    "- len()\n",
    "calculates the length of the tuple.\n",
    "- max()\n",
    "returns the item from the tuple with the highest value.\n",
    "- min()\n",
    "returns the item from the Python tuple with the lowest value.\n",
    "- sum()\n",
    "returns the sum of all the elements in the tuple.\n",
    "- #### but sum will only work for integer and float not on string"
   ]
  },
  {
   "cell_type": "code",
   "execution_count": null,
   "metadata": {},
   "outputs": [],
   "source": [
    "tup=[12,34,56,78,900,1,2,45]\n",
    "print(\"length of tuple =\" , len(tup))\n",
    "print(\"higest value =\" , max(tup))\n",
    "print(\"min value =\" , min(tup))\n",
    "print(\"sum =\" , sum(tup))"
   ]
  },
  {
   "cell_type": "markdown",
   "metadata": {},
   "source": [
    "### Built-in Method\n",
    "\n",
    "- <b>index()</b> --> It returns the first matching index of the item specified.\n",
    "\n",
    "- <b>count()</b> --> It returns the count of the item specified.\n",
    "\n"
   ]
  },
  {
   "cell_type": "code",
   "execution_count": null,
   "metadata": {},
   "outputs": [],
   "source": [
    "# Count()\n",
    "thistuple = (1, 3, 7, 8, 7, 5, 4, 6, 8, 5)\n",
    "x = thistuple.count(5)\n",
    "print(x)"
   ]
  },
  {
   "cell_type": "code",
   "execution_count": null,
   "metadata": {},
   "outputs": [],
   "source": [
    "# Index()\n",
    "thistuple = (1, 3, 7, 8, 7, 5, 4, 6, 8, 5)\n",
    "x = thistuple.index(8)\n",
    "print(x)"
   ]
  },
  {
   "cell_type": "markdown",
   "metadata": {},
   "source": [
    "### for loop with tuple"
   ]
  },
  {
   "cell_type": "code",
   "execution_count": null,
   "metadata": {
    "slideshow": {
     "slide_type": "subslide"
    }
   },
   "outputs": [],
   "source": [
    "# Access tuple element via value\n",
    "fruits=(\"apple\",\"banana\",\"pineapple\",\"mango\",\"grapes\")\n",
    "for fruit in fruits:\n",
    "    print(fruit)"
   ]
  },
  {
   "cell_type": "code",
   "execution_count": null,
   "metadata": {
    "slideshow": {
     "slide_type": "subslide"
    }
   },
   "outputs": [],
   "source": [
    "# Access element via index\n",
    "fruits=(\"apple\",\"banana\",\"pineapple\",\"mango\",\"grapes\")\n",
    "for i in range(len(fruits)):\n",
    "    print(fruits[i])\n"
   ]
  },
  {
   "cell_type": "markdown",
   "metadata": {},
   "source": [
    "### Using Lambda function with map"
   ]
  },
  {
   "cell_type": "code",
   "execution_count": null,
   "metadata": {},
   "outputs": [],
   "source": [
    "#How to use lambda function with map()?\n",
    "\n",
    "numbers = (1, 2, 3, 4)\n",
    "result = map(lambda x: x*x, numbers)\n",
    "print(result)\n",
    "\n",
    "# converting map object to set\n",
    "numbersSquare = tuple(result)\n",
    "print(numbersSquare)"
   ]
  },
  {
   "cell_type": "code",
   "execution_count": null,
   "metadata": {},
   "outputs": [],
   "source": []
  }
 ],
 "metadata": {
  "kernelspec": {
   "display_name": "Python 3",
   "language": "python",
   "name": "python3"
  },
  "language_info": {
   "codemirror_mode": {
    "name": "ipython",
    "version": 3
   },
   "file_extension": ".py",
   "mimetype": "text/x-python",
   "name": "python",
   "nbconvert_exporter": "python",
   "pygments_lexer": "ipython3",
   "version": "3.7.1"
  }
 },
 "nbformat": 4,
 "nbformat_minor": 4
}
