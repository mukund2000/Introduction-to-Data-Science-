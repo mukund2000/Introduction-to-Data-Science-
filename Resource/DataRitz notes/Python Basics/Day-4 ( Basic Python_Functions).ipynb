{
 "cells": [
  {
   "attachments": {
    "image.png": {
     "image/png": "[encoded data removed]"
    }
   },
   "cell_type": "markdown",
   "metadata": {},
   "source": [
    "# Data Analytics and Machine Learning using Python   \n",
    "\n",
    "![image.png](attachment:image.png)"
   ]
  },
  {
   "cell_type": "markdown",
   "metadata": {},
   "source": [
    "## Basics of Python\n",
    "\n",
    "- **Functions**\n",
    "- **Built in Functions**"
   ]
  },
  {
   "cell_type": "markdown",
   "metadata": {},
   "source": [
    "## Functions"
   ]
  },
  {
   "cell_type": "markdown",
   "metadata": {},
   "source": [
    "### In Python, function is a group of related statements that perform a specific task.\n",
    "\n",
    "- Functions help break our program into smaller and modular chunks. As our program grows larger and larger, functions make it more organized and manageable.\n",
    "\n",
    "<b>Syntax of Function</b>\n",
    "\n",
    "<div class=\"alert alert-block alert-info\">\n",
    "    <font color=red><b>def</b>&nbsp;&nbsp;function_name(parameters):</font><br>\n",
    "    \"\"\"docstring\"\"\"<br>\n",
    "        <font color=red>&nbsp;&nbsp;&nbsp;&nbsp;&nbsp; statement(s)</font>\n",
    "        </div>\n",
    "\n",
    "- Keyword <b>def</b> marks the start of function header.\n",
    "- Parameters (arguments) through which we pass values to a function. They are optional.\n",
    "- A colon (:) to mark the end of function header.\n",
    "- One or more valid python statements that make up the function body. Statements must have same indentation level (usually 4 spaces).\n",
    "- An optional return statement to return a value from the function.\n"
   ]
  },
  {
   "cell_type": "code",
   "execution_count": 2,
   "metadata": {},
   "outputs": [],
   "source": [
    "list?"
   ]
  },
  {
   "cell_type": "markdown",
   "metadata": {},
   "source": [
    "### How to define and call a function in Python?\n",
    "\n",
    "- Function in Python is defined by the \"def \" statement followed by the function name and parentheses ()\n",
    "\n",
    "- To call a function we simply type the function name with appropriate parameters."
   ]
  },
  {
   "cell_type": "code",
   "execution_count": 2,
   "metadata": {
    "scrolled": true
   },
   "outputs": [
    {
     "name": "stdout",
     "output_type": "stream",
     "text": [
      "Value is 10\n",
      "Hello Mr. S.C.Bose, Good Morning!\n"
     ]
    }
   ],
   "source": [
    "# Example to illustrate Function\n",
    "#Function Definition\n",
    "def show(n):\n",
    "    print(\"Value is\" ,n)\n",
    "a=10\n",
    "show(a)  # call a function\n",
    "\n",
    "def greetings(s):\n",
    "    print(f\"Hello Mr. {s}, Good Morning!\")\n",
    "\n",
    "greetings(\"S.C.Bose\") # Function Call"
   ]
  },
  {
   "cell_type": "markdown",
   "metadata": {},
   "source": [
    "### The return statement\n",
    "\n",
    "- The return statement is used to exit a function and go back to the place from where it was called.\n",
    "\n",
    "<div class=\"alert alert-block alert-info\">\n",
    "    <font color=red>return [expression_list]</font><br>\n",
    "        </div>\n",
    "        \n",
    "        \n",
    "- This statement can contain expression which gets evaluated and the value is returned.\n",
    "- If there is no expression in the statement or the return statement itself is not present inside a function, then the function will return the None object."
   ]
  },
  {
   "cell_type": "code",
   "execution_count": 3,
   "metadata": {},
   "outputs": [
    {
     "name": "stdout",
     "output_type": "stream",
     "text": [
      "2\n",
      "4\n"
     ]
    }
   ],
   "source": [
    "def absolute_value(num):\n",
    "    \"\"\"This function returns the absolute value of the entered number\"\"\"\n",
    "    if num >= 0:\n",
    "        return num\n",
    "    else:\n",
    "        return -num\n",
    "\n",
    "a=2\n",
    "b=-4\n",
    "\n",
    "# Output: 1\n",
    "print(absolute_value(a))\n",
    "# Output: 2\n",
    "print(absolute_value(b))"
   ]
  },
  {
   "cell_type": "markdown",
   "metadata": {},
   "source": [
    "### Multiple Parameters\n"
   ]
  },
  {
   "cell_type": "code",
   "execution_count": 4,
   "metadata": {},
   "outputs": [
    {
     "name": "stdout",
     "output_type": "stream",
     "text": [
      "12\n"
     ]
    },
    {
     "data": {
      "text/plain": [
       "15"
      ]
     },
     "execution_count": 4,
     "metadata": {},
     "output_type": "execute_result"
    }
   ],
   "source": [
    "def add(a,b):\n",
    "    print(a)\n",
    "    return a+b\n",
    "add(12,3)\n"
   ]
  },
  {
   "cell_type": "markdown",
   "metadata": {},
   "source": [
    "### Scope and Lifetime of variables\n",
    "- Scope of a variable is the portion of a program where the variable is recognized.\n",
    "- Parameters and variables defined inside a function is not visible from outside. Hence, they have a local scope.\n",
    "\n",
    "- Lifetime of a variable is the period throughout which the variable exits in the memory. \n",
    "- The lifetime of variables inside a function is as long as the function executes.\n",
    "\n",
    "- They are destroyed once we return from the function. \n",
    "- Hence, a function does not remember the value of a variable from its previous calls.\n",
    "\n"
   ]
  },
  {
   "cell_type": "code",
   "execution_count": 11,
   "metadata": {},
   "outputs": [
    {
     "name": "stdout",
     "output_type": "stream",
     "text": [
      "Value of a inside function  10\n",
      "Value of a outside function  20\n"
     ]
    }
   ],
   "source": [
    "#Example 1\n",
    "def test1():\n",
    "    a=10 # Here a is local to Test1 Function\n",
    "    print(\"Value of a inside function \",a)\n",
    "#outside function\n",
    "a=20\n",
    "test1()\n",
    "print(\"Value of a outside function \",a)"
   ]
  },
  {
   "cell_type": "markdown",
   "metadata": {},
   "source": [
    "### Global Variables\n",
    "\n",
    "- A variable declared outside of the function or in global scope is known as global variable."
   ]
  },
  {
   "cell_type": "code",
   "execution_count": 5,
   "metadata": {},
   "outputs": [
    {
     "name": "stdout",
     "output_type": "stream",
     "text": [
      "a inside Function : global\n",
      "a outside Function: global\n"
     ]
    }
   ],
   "source": [
    "a = \"global\"\n",
    "\n",
    "def foo():\n",
    "    print(\"a inside Function :\", a)\n",
    "\n",
    "foo()\n",
    "print(\"a outside Function:\", a)"
   ]
  },
  {
   "cell_type": "markdown",
   "metadata": {},
   "source": [
    "### What Happen when we change value of \"a\" inside a function?"
   ]
  },
  {
   "cell_type": "code",
   "execution_count": 6,
   "metadata": {},
   "outputs": [
    {
     "ename": "UnboundLocalError",
     "evalue": "local variable 'a' referenced before assignment",
     "output_type": "error",
     "traceback": [
      "\u001b[1;31m---------------------------------------------------------------------------\u001b[0m",
      "\u001b[1;31mUnboundLocalError\u001b[0m                         Traceback (most recent call last)",
      "\u001b[1;32m<ipython-input-6-ee31388ae423>\u001b[0m in \u001b[0;36m<module>\u001b[1;34m\u001b[0m\n\u001b[0;32m      5\u001b[0m     \u001b[0mprint\u001b[0m\u001b[1;33m(\u001b[0m\u001b[1;34m\"a inside Function :\"\u001b[0m\u001b[1;33m,\u001b[0m \u001b[0ma\u001b[0m\u001b[1;33m)\u001b[0m\u001b[1;33m\u001b[0m\u001b[1;33m\u001b[0m\u001b[0m\n\u001b[0;32m      6\u001b[0m \u001b[1;33m\u001b[0m\u001b[0m\n\u001b[1;32m----> 7\u001b[1;33m \u001b[0mfoo\u001b[0m\u001b[1;33m(\u001b[0m\u001b[1;33m)\u001b[0m\u001b[1;33m\u001b[0m\u001b[1;33m\u001b[0m\u001b[0m\n\u001b[0m\u001b[0;32m      8\u001b[0m \u001b[0mprint\u001b[0m\u001b[1;33m(\u001b[0m\u001b[1;34m\"a outside Function:\"\u001b[0m\u001b[1;33m,\u001b[0m \u001b[0ma\u001b[0m\u001b[1;33m)\u001b[0m\u001b[1;33m\u001b[0m\u001b[1;33m\u001b[0m\u001b[0m\n\u001b[0;32m      9\u001b[0m \u001b[1;33m\u001b[0m\u001b[0m\n",
      "\u001b[1;32m<ipython-input-6-ee31388ae423>\u001b[0m in \u001b[0;36mfoo\u001b[1;34m()\u001b[0m\n\u001b[0;32m      2\u001b[0m \u001b[1;33m\u001b[0m\u001b[0m\n\u001b[0;32m      3\u001b[0m \u001b[1;32mdef\u001b[0m \u001b[0mfoo\u001b[0m\u001b[1;33m(\u001b[0m\u001b[1;33m)\u001b[0m\u001b[1;33m:\u001b[0m\u001b[1;33m\u001b[0m\u001b[1;33m\u001b[0m\u001b[0m\n\u001b[1;32m----> 4\u001b[1;33m     \u001b[0ma\u001b[0m\u001b[1;33m=\u001b[0m\u001b[0ma\u001b[0m\u001b[1;33m*\u001b[0m\u001b[1;36m2\u001b[0m\u001b[1;33m\u001b[0m\u001b[1;33m\u001b[0m\u001b[0m\n\u001b[0m\u001b[0;32m      5\u001b[0m     \u001b[0mprint\u001b[0m\u001b[1;33m(\u001b[0m\u001b[1;34m\"a inside Function :\"\u001b[0m\u001b[1;33m,\u001b[0m \u001b[0ma\u001b[0m\u001b[1;33m)\u001b[0m\u001b[1;33m\u001b[0m\u001b[1;33m\u001b[0m\u001b[0m\n\u001b[0;32m      6\u001b[0m \u001b[1;33m\u001b[0m\u001b[0m\n",
      "\u001b[1;31mUnboundLocalError\u001b[0m: local variable 'a' referenced before assignment"
     ]
    }
   ],
   "source": [
    "a = \"global\"\n",
    "\n",
    "def foo():\n",
    "    a=a*2\n",
    "    print(\"a inside Function :\", a)\n",
    "\n",
    "foo()\n",
    "print(\"a outside Function:\", a)\n",
    "\n",
    "# When we run the code, the output will be:\n",
    "\n",
    "#UnboundLocalError: local variable 'a' referenced before assignment\n",
    "#The output shows an error because Python treats \"a\" as a local variable and \n",
    "# \"a\" is also not defined inside foo()."
   ]
  },
  {
   "cell_type": "code",
   "execution_count": 3,
   "metadata": {},
   "outputs": [
    {
     "name": "stdout",
     "output_type": "stream",
     "text": [
      "a inside Function : globalglobal\n",
      "a outside Function: globalglobal\n"
     ]
    }
   ],
   "source": [
    "# The solution for this is to use the global keyword.\n",
    "\n",
    "a = \"global\"\n",
    "\n",
    "def foo():\n",
    "    global a\n",
    "    a=a*2\n",
    "    print(\"a inside Function :\", a)\n",
    "\n",
    "foo()\n",
    "print(\"a outside Function:\", a)\n"
   ]
  },
  {
   "cell_type": "markdown",
   "metadata": {},
   "source": [
    "### Types of Functions\n",
    "\n",
    "- Built-in functions\n",
    "    - Functions that are built into Python.\n",
    "- User-defined functions \n",
    "    - Functions defined by the users themselves.\n"
   ]
  },
  {
   "cell_type": "markdown",
   "metadata": {},
   "source": [
    "### Arguments\n",
    "#### Variable Function Arguments\n",
    "- until now functions had fixed number of arguments. \n",
    "- In Python there are other ways to define a function which can take variable number of arguments.\n",
    "\n",
    "#### Python Default Arguments\n",
    "\n",
    "Function arguments can have default values in Python.\n",
    "\n",
    "We can provide a default value to an argument by using the assignment operator (=). Here is an example.\n"
   ]
  },
  {
   "cell_type": "code",
   "execution_count": 7,
   "metadata": {},
   "outputs": [
    {
     "name": "stdout",
     "output_type": "stream",
     "text": [
      "Hello Sardar Patel, Good morning!\n",
      "Hello Sardar Patel, How do you do?\n"
     ]
    }
   ],
   "source": [
    "def greet(name, msg = \"Good morning!\"):\n",
    "    \"\"\"\n",
    "   This function greets to the person with the provided message.\n",
    "\n",
    "   If message is not provided, it defaults to \"Good morning!\"\n",
    "   \"\"\"\n",
    "    print(\"Hello\",name + ', ' + msg)\n",
    "\n",
    "greet(\"Sardar Patel\")\n",
    "greet(\"Sardar Patel\",\"How do you do?\")"
   ]
  },
  {
   "cell_type": "code",
   "execution_count": 8,
   "metadata": {},
   "outputs": [],
   "source": [
    "?print"
   ]
  },
  {
   "cell_type": "markdown",
   "metadata": {},
   "source": [
    "#### Python Keyword Arguments\n",
    "- Python allows functions to be called using keyword arguments. \n",
    "- When we call functions in this way, the order (position) of the arguments can be changed. "
   ]
  },
  {
   "cell_type": "code",
   "execution_count": 9,
   "metadata": {},
   "outputs": [
    {
     "name": "stdout",
     "output_type": "stream",
     "text": [
      "Hello Bhagat, How do you do?\n"
     ]
    }
   ],
   "source": [
    "greet(name = \"Bhagat\",msg = \"How do you do?\")"
   ]
  },
  {
   "cell_type": "code",
   "execution_count": 10,
   "metadata": {},
   "outputs": [
    {
     "name": "stdout",
     "output_type": "stream",
     "text": [
      "Hello ChandraShekhar, How do you do?\n"
     ]
    }
   ],
   "source": [
    "greet(msg = \"How do you do?\",name = \"ChandraShekhar\")"
   ]
  },
  {
   "cell_type": "markdown",
   "metadata": {},
   "source": [
    "#### Python Arbitrary Arguments\n",
    "- we do not know in advance the number of arguments that will be passed into a function.\n",
    "- Python allows us to handle this kind of situation through function calls with arbitrary number of arguments.\n",
    "- In the function definition we use an asterisk (*) before the parameter name to denote this kind of argument."
   ]
  },
  {
   "cell_type": "code",
   "execution_count": 11,
   "metadata": {},
   "outputs": [
    {
     "name": "stdout",
     "output_type": "stream",
     "text": [
      "Hello Subhash\n",
      "Hello Bhagat\n",
      "Hello Krishna\n",
      "Hello Ram\n"
     ]
    }
   ],
   "source": [
    "def greet(*names):\n",
    "    # names is a tuple with arguments\n",
    "    for name in names:\n",
    "        print(\"Hello\",name)\n",
    "\n",
    "greet(\"Subhash\",\"Bhagat\",\"Krishna\",\"Ram\")"
   ]
  },
  {
   "cell_type": "markdown",
   "metadata": {},
   "source": [
    "#### Example -1   Find all Factor of a given number n\n",
    "- Factor must lie between 1 to n"
   ]
  },
  {
   "cell_type": "code",
   "execution_count": 13,
   "metadata": {},
   "outputs": [
    {
     "data": {
      "text/plain": [
       "[1, 17]"
      ]
     },
     "execution_count": 13,
     "metadata": {},
     "output_type": "execute_result"
    }
   ],
   "source": [
    "# Find all Factor of a give number n\n",
    "# Factor must lie between 1 to n\n",
    "\n",
    "def factors(n):\n",
    "    factor_list=[]\n",
    "    for i in range(1,n+1):\n",
    "        if n%i==0:\n",
    "            factor_list=factor_list + [i]\n",
    "    return factor_list\n",
    "\n",
    "factors(17)\n"
   ]
  },
  {
   "cell_type": "markdown",
   "metadata": {},
   "source": [
    "#### Example -2   Find that a given no is prime or not\n",
    "\n",
    "- Prime number are the number whose factors are 1 and itself"
   ]
  },
  {
   "cell_type": "code",
   "execution_count": 14,
   "metadata": {},
   "outputs": [
    {
     "data": {
      "text/plain": [
       "True"
      ]
     },
     "execution_count": 14,
     "metadata": {},
     "output_type": "execute_result"
    }
   ],
   "source": [
    "# Here we use Factors function whose definition write above\n",
    "def isPrime(n):\n",
    "    return (factors(n)==[1,n])\n",
    "isPrime(11)"
   ]
  },
  {
   "cell_type": "markdown",
   "metadata": {},
   "source": [
    "#### Example -3   Find Prime number upto n"
   ]
  },
  {
   "cell_type": "code",
   "execution_count": 10,
   "metadata": {},
   "outputs": [
    {
     "data": {
      "text/plain": [
       "[2, 3, 5, 7, 11, 13, 17, 19]"
      ]
     },
     "execution_count": 10,
     "metadata": {},
     "output_type": "execute_result"
    }
   ],
   "source": [
    "def primeUptoN(n):\n",
    "    List_of_prime=[]\n",
    "    for i in range(1,n+1):\n",
    "        if isPrime(i):\n",
    "            List_of_prime=List_of_prime + [i]\n",
    "    return List_of_prime\n",
    "\n",
    "primeUptoN(20)"
   ]
  },
  {
   "cell_type": "code",
   "execution_count": 6,
   "metadata": {},
   "outputs": [
    {
     "name": "stdout",
     "output_type": "stream",
     "text": [
      "10.0\n",
      "200.0\n"
     ]
    }
   ],
   "source": [
    "def interest(p,t,r=10):\n",
    "    print((p*r*t/100))\n",
    "interest(p=100,t=1)\n",
    "interest(t=1,p=1000,r=20)"
   ]
  },
  {
   "cell_type": "markdown",
   "metadata": {},
   "source": [
    "### Lambda Expression"
   ]
  },
  {
   "cell_type": "markdown",
   "metadata": {},
   "source": [
    "- A lambda function is a small anonymous function.\n",
    "\n",
    "- A lambda function can take any number of arguments, but can only have one expression.\n",
    "\n",
    "#### Syntax\n",
    "> <b>lambda</b> arguments : expression"
   ]
  },
  {
   "cell_type": "code",
   "execution_count": 2,
   "metadata": {},
   "outputs": [
    {
     "data": {
      "text/plain": [
       "15"
      ]
     },
     "execution_count": 2,
     "metadata": {},
     "output_type": "execute_result"
    }
   ],
   "source": [
    "f = lambda x,y: x + y\n",
    "f(5,10)"
   ]
  },
  {
   "cell_type": "code",
   "execution_count": 7,
   "metadata": {},
   "outputs": [
    {
     "name": "stdout",
     "output_type": "stream",
     "text": [
      "Leap Year\n"
     ]
    }
   ],
   "source": [
    "leap=lambda y:(y%4==0 and y%100!=0) or y%400==0\n",
    "if leap(2000):\n",
    "    print(\"Leap Year\")\n",
    "else:\n",
    "    print(\"Not a leap Year\")"
   ]
  },
  {
   "cell_type": "code",
   "execution_count": 8,
   "metadata": {},
   "outputs": [
    {
     "data": {
      "text/plain": [
       "[True, True, False, False, False]"
      ]
     },
     "execution_count": 8,
     "metadata": {},
     "output_type": "execute_result"
    }
   ],
   "source": [
    "l=[2000,2020,2019,1997,1900]\n",
    "list(map(leap,l))"
   ]
  },
  {
   "cell_type": "markdown",
   "metadata": {},
   "source": [
    "## Built in Functions"
   ]
  },
  {
   "cell_type": "markdown",
   "metadata": {
    "colab_type": "text",
    "id": "5Iqg64J8OM_u"
   },
   "source": [
    "abs() , all(), any(), ascii(), bin(), hex(), oct(), float(), int(), bool(), bytearray(), bytes(), callable(), chr(), ord(), complex(), pow(), divmod(), dict(), str(), list(), tuple(), set(), dir(), help(), enumerate(), eval(), exec(), globals(), locals(), hash(), reversed(), sorted(), round()"
   ]
  },
  {
   "cell_type": "markdown",
   "metadata": {
    "colab_type": "text",
    "id": "IjRwJdm3ORJc"
   },
   "source": [
    "- The Python interpreter has a number of functions and types built into it that are always available. They are listed here in alphabetical order."
   ]
  },
  {
   "cell_type": "markdown",
   "metadata": {
    "colab_type": "text",
    "id": "1vBcBYhdPZLy"
   },
   "source": [
    "\n",
    "**1.   abs()**\n",
    "\n",
    "- The abs() is one of the most popular Python built-in functions, which returns the absolute value of a number. A negative value’s absolute is that value is positive. If the number is a complex number, abs() returns its magnitude.\n",
    "\n",
    "Syntax:\n",
    "\n",
    "> abs(x)\n",
    "\n",
    "\n",
    "\n",
    "\n"
   ]
  },
  {
   "cell_type": "code",
   "execution_count": 1,
   "metadata": {
    "colab": {},
    "colab_type": "code",
    "id": "bD685LOGP5l8"
   },
   "outputs": [
    {
     "name": "stdout",
     "output_type": "stream",
     "text": [
      "Absolute value of -20 is: 20\n"
     ]
    }
   ],
   "source": [
    "# integer\n",
    "integer = -20\n",
    "print('Absolute value of -20 is:', abs(integer))\n"
   ]
  },
  {
   "cell_type": "code",
   "execution_count": 3,
   "metadata": {
    "colab": {},
    "colab_type": "code",
    "id": "7Bm4Y3_JQDqF"
   },
   "outputs": [
    {
     "name": "stdout",
     "output_type": "stream",
     "text": [
      "Magnitude of 3 - 4j is: 5.0\n"
     ]
    }
   ],
   "source": [
    "# complex number\n",
    "complex = (3 - 4j)\n",
    "print('Magnitude of 3 - 4j is:', abs(complex))"
   ]
  },
  {
   "cell_type": "markdown",
   "metadata": {
    "colab_type": "text",
    "id": "RNI1QRs5QTr6"
   },
   "source": [
    "**2. all()**\n",
    "\n",
    "- The all() function takes a container as an argument. This Built in Functions returns True if all values in a python iterable have a Boolean value of True. An empty value has a Boolean value of False.\n",
    "\n",
    "The syntax of all() method is:\n",
    "\n",
    ">all(iterable)\n",
    "\n",
    "**iterable** - any iterable (list, tuple, dictionary, etc.) which contains the elements"
   ]
  },
  {
   "cell_type": "markdown",
   "metadata": {
    "colab_type": "text",
    "id": "IZ_BO4x3ReLP"
   },
   "source": [
    "<table summary=\"Truth table for all()\"><caption>Truth table for all()</caption>\n",
    "<thead>\n",
    "<tr>\n",
    "<th scope=\"col\">When</th>\n",
    "<th scope=\"col\">Return Value</th>\n",
    "</tr>\n",
    "</thead>\n",
    "<tbody>\n",
    "<tr>\n",
    "<td>All values are true</td>\n",
    "<td>True</td>\n",
    "</tr>\n",
    "<tr>\n",
    "<td>All values are false</td>\n",
    "<td>False</td>\n",
    "</tr>\n",
    "<tr>\n",
    "<td>One value is true (others are false)</td>\n",
    "<td>False</td>\n",
    "</tr>\n",
    "<tr>\n",
    "<td>One value is false (others are true)</td>\n",
    "<td>False</td>\n",
    "</tr>\n",
    "<tr>\n",
    "<td>Empty Iterable</td>\n",
    "<td>True</td>\n",
    "</tr>\n",
    "</tbody>\n",
    "</table>"
   ]
  },
  {
   "cell_type": "code",
   "execution_count": 29,
   "metadata": {
    "colab": {},
    "colab_type": "code",
    "id": "80QO3-EIQl16"
   },
   "outputs": [
    {
     "data": {
      "text/plain": [
       "False"
      ]
     },
     "execution_count": 29,
     "metadata": {},
     "output_type": "execute_result"
    }
   ],
   "source": [
    "all({'*','',''}) #Different Operators"
   ]
  },
  {
   "cell_type": "code",
   "execution_count": 30,
   "metadata": {
    "colab": {},
    "colab_type": "code",
    "id": "HTVH7StRRQWS"
   },
   "outputs": [
    {
     "data": {
      "text/plain": [
       "True"
      ]
     },
     "execution_count": 30,
     "metadata": {},
     "output_type": "execute_result"
    }
   ],
   "source": [
    "all([' ',' ',' ']) #Similar Operators"
   ]
  },
  {
   "cell_type": "markdown",
   "metadata": {
    "colab_type": "text",
    "id": "UW0eBPWNSAou"
   },
   "source": [
    "##### How all() works for list?"
   ]
  },
  {
   "cell_type": "code",
   "execution_count": 19,
   "metadata": {
    "colab": {},
    "colab_type": "code",
    "id": "W5qaMZXqRlrr"
   },
   "outputs": [
    {
     "name": "stdout",
     "output_type": "stream",
     "text": [
      "True\n",
      "False\n",
      "False\n"
     ]
    }
   ],
   "source": [
    "# all values true\n",
    "l = [1, 3, 4, 5]\n",
    "print(all(l))\n",
    "\n",
    "# all values false\n",
    "l = [0, False]\n",
    "print(all(l))\n",
    "\n",
    "# one false value\n",
    "l = [1, 3, 4, 0]\n",
    "print(all(l))"
   ]
  },
  {
   "cell_type": "markdown",
   "metadata": {
    "colab_type": "text",
    "id": "YIUl0NQESHZO"
   },
   "source": [
    "##### How all() works for string?"
   ]
  },
  {
   "cell_type": "code",
   "execution_count": 20,
   "metadata": {
    "colab": {},
    "colab_type": "code",
    "id": "1_T2jmQHSKyM"
   },
   "outputs": [
    {
     "name": "stdout",
     "output_type": "stream",
     "text": [
      "True\n",
      "True\n"
     ]
    }
   ],
   "source": [
    "s = \"This is good\"\n",
    "print(all(s))\n",
    "\n",
    "# 0 is False\n",
    "# '0' is True\n",
    "s = '000'\n",
    "print(all(s))"
   ]
  },
  {
   "cell_type": "markdown",
   "metadata": {
    "colab_type": "text",
    "id": "XTciskWrSd6x"
   },
   "source": [
    "##### How all() works with Python dictionaries?"
   ]
  },
  {
   "cell_type": "code",
   "execution_count": 21,
   "metadata": {
    "colab": {},
    "colab_type": "code",
    "id": "Xvt9FlQrSf0F"
   },
   "outputs": [
    {
     "name": "stdout",
     "output_type": "stream",
     "text": [
      "False\n",
      "True\n",
      "False\n"
     ]
    }
   ],
   "source": [
    "s = {0: 'False', 1: 'False'}\n",
    "print(all(s))\n",
    "\n",
    "s = {1: 'True', 2: 'True'}\n",
    "print(all(s))\n",
    "\n",
    "s = {1: 'True', False: 0}\n",
    "print(all(s))"
   ]
  },
  {
   "cell_type": "markdown",
   "metadata": {
    "colab_type": "text",
    "id": "oJJRuPsJRp1-"
   },
   "source": [
    "**3. any()**\n",
    "\n",
    "- Like all(), it takes one argument and returns True if, even one value in the iterable has a Boolean value of True.\n",
    "\n",
    "The syntax of any() is:\n",
    "\n",
    ">any(iterable)\n",
    "\n",
    "any() returns:\n",
    "\n",
    ">True if at least one element of an iterable is true\n",
    "\n",
    ">False if all elements are false or if an iterable is empty\n",
    "\n",
    "<table border=\"1\" cellspacing=\"1\" cellpadding=\"1\">\n",
    "<thead>\n",
    "<tr>\n",
    "<th scope=\"col\">When</th>\n",
    "<th scope=\"col\">Return Value</th>\n",
    "</tr>\n",
    "</thead>\n",
    "<tbody>\n",
    "<tr>\n",
    "<td>All values are true</td>\n",
    "<td>True</td>\n",
    "</tr>\n",
    "<tr>\n",
    "<td>All values are false</td>\n",
    "<td>False</td>\n",
    "</tr>\n",
    "<tr>\n",
    "<td>One value is true (others are false)</td>\n",
    "<td>True</td>\n",
    "</tr>\n",
    "<tr>\n",
    "<td>One value is false (others are true)</td>\n",
    "<td>True</td>\n",
    "</tr>\n",
    "<tr>\n",
    "<td>Empty Iterable</td>\n",
    "<td>False</td>\n",
    "</tr>\n",
    "</tbody>\n",
    "</table>"
   ]
  },
  {
   "cell_type": "code",
   "execution_count": 34,
   "metadata": {
    "colab": {},
    "colab_type": "code",
    "id": "AUsYEaibTI8g"
   },
   "outputs": [
    {
     "name": "stdout",
     "output_type": "stream",
     "text": [
      "True\n"
     ]
    }
   ],
   "source": [
    "#Python List\n",
    "l = [1, 3, 4, 0]\n",
    "print(any(l))"
   ]
  },
  {
   "cell_type": "code",
   "execution_count": 36,
   "metadata": {
    "colab": {},
    "colab_type": "code",
    "id": "ABGWmpl3TZtw"
   },
   "outputs": [
    {
     "name": "stdout",
     "output_type": "stream",
     "text": [
      "False\n",
      "True\n"
     ]
    }
   ],
   "source": [
    "#Python Dictionary\n",
    "d = {0: 'False'}\n",
    "print(any(d))\n",
    "\n",
    "d = {0: 'False', 1: 'True'}\n",
    "print(any(d))"
   ]
  },
  {
   "cell_type": "markdown",
   "metadata": {
    "colab_type": "text",
    "id": "MR-gtQn1Tfc8"
   },
   "source": [
    "**4. ascii()**\n",
    "\n",
    "- It is important Python built-in functions.\n",
    "- The ascii() method returns a string containing a printable representation of an object. It escapes the non-ASCII characters in the string using \\x, \\u or \\U escapes.\n",
    "\n",
    "The syntax of ascii() is:\n",
    "\n",
    ">ascii(object)\n",
    "\n",
    "The ascii() method takes an object (like: strings, list etc).\n",
    "\n",
    "Let’s take a Romanian character:\n",
    "\n"
   ]
  },
  {
   "cell_type": "code",
   "execution_count": 0,
   "metadata": {
    "colab": {},
    "colab_type": "code",
    "id": "3Jw_z84sUi1E"
   },
   "outputs": [],
   "source": [
    "ascii('ș')\n"
   ]
  },
  {
   "cell_type": "markdown",
   "metadata": {
    "colab_type": "text",
    "id": "rvpo5UMKUq4F"
   },
   "source": [
    "Since this was a non-ASCII character in python, the interpreter added a backslash (\\) and escaped it using another backslash."
   ]
  },
  {
   "cell_type": "code",
   "execution_count": 0,
   "metadata": {
    "colab": {},
    "colab_type": "code",
    "id": "opr2_eBSUrzY"
   },
   "outputs": [],
   "source": [
    "ascii('ușor')"
   ]
  },
  {
   "cell_type": "markdown",
   "metadata": {
    "colab_type": "text",
    "id": "QZf_ZxT7UvcP"
   },
   "source": [
    "Let’s apply it to a list."
   ]
  },
  {
   "cell_type": "code",
   "execution_count": 0,
   "metadata": {
    "colab": {},
    "colab_type": "code",
    "id": "8c3B6-kyUyeo"
   },
   "outputs": [],
   "source": [
    "ascii(['s','ș'])"
   ]
  },
  {
   "cell_type": "markdown",
   "metadata": {
    "colab_type": "text",
    "id": "BK51sL72VaAL"
   },
   "source": [
    "**5. bin()**\n",
    "\n",
    "- The bin() method converts and returns the binary equivalent string of a given integer. If the parameter isn't an integer, it has to implement `__index__()` method to return an integer.\n",
    "\n",
    "The syntax of bin() method is:\n",
    "\n",
    ">bin(num)"
   ]
  },
  {
   "cell_type": "code",
   "execution_count": 22,
   "metadata": {
    "colab": {},
    "colab_type": "code",
    "id": "gi9zRzdUVklj",
    "scrolled": true
   },
   "outputs": [
    {
     "data": {
      "text/plain": [
       "'0b111'"
      ]
     },
     "execution_count": 22,
     "metadata": {},
     "output_type": "execute_result"
    }
   ],
   "source": [
    "bin(7) #integer"
   ]
  },
  {
   "cell_type": "markdown",
   "metadata": {
    "colab_type": "text",
    "id": "vwfHp4TkVyh1"
   },
   "source": [
    "We can’t apply it on floats, though."
   ]
  },
  {
   "cell_type": "code",
   "execution_count": 23,
   "metadata": {
    "colab": {},
    "colab_type": "code",
    "id": "QpcDEU2NVwOg"
   },
   "outputs": [
    {
     "ename": "TypeError",
     "evalue": "'float' object cannot be interpreted as an integer",
     "output_type": "error",
     "traceback": [
      "\u001b[1;31m---------------------------------------------------------------------------\u001b[0m",
      "\u001b[1;31mTypeError\u001b[0m                                 Traceback (most recent call last)",
      "\u001b[1;32m<ipython-input-23-16668c589bd9>\u001b[0m in \u001b[0;36m<module>\u001b[1;34m\u001b[0m\n\u001b[1;32m----> 1\u001b[1;33m \u001b[0mbin\u001b[0m\u001b[1;33m(\u001b[0m\u001b[1;36m7.0\u001b[0m\u001b[1;33m)\u001b[0m\u001b[1;33m\u001b[0m\u001b[1;33m\u001b[0m\u001b[0m\n\u001b[0m",
      "\u001b[1;31mTypeError\u001b[0m: 'float' object cannot be interpreted as an integer"
     ]
    }
   ],
   "source": [
    "bin(7.0)"
   ]
  },
  {
   "cell_type": "markdown",
   "metadata": {
    "colab_type": "text",
    "id": "Zhi3447_WAuS"
   },
   "source": [
    "##### Convert an object to binary implementing `__index__()` method (OOPS Concept Based)"
   ]
  },
  {
   "cell_type": "code",
   "execution_count": 0,
   "metadata": {
    "colab": {},
    "colab_type": "code",
    "id": "L2CirUKpV7I8"
   },
   "outputs": [],
   "source": [
    "class Quantity:\n",
    "    apple = 1\n",
    "    orange = 2\n",
    "    grapes = 2\n",
    "    \n",
    "    def __index__(self):\n",
    "        return self.apple + self.orange + self.grapes\n",
    "        \n",
    "print('The binary equivalent of quantity is:', bin(Quantity()))"
   ]
  },
  {
   "cell_type": "markdown",
   "metadata": {
    "colab_type": "text",
    "id": "FgNZcfkD1dIF"
   },
   "source": [
    "**6. hex()**\n",
    "\n",
    "- The hex() function converts an integer number to the corresponding hexadecimal string.\n",
    "\n",
    "The syntax of hex() is:\n",
    "\n",
    ">hex(x)\n",
    "\n",
    "The hex() function takes a single argument.\n",
    "\n",
    "x - integer number \n",
    "\n",
    "The returned hexadecimal string starts with prefix \"0x\" indicating it's in hexadecimal form."
   ]
  },
  {
   "cell_type": "code",
   "execution_count": 24,
   "metadata": {
    "colab": {},
    "colab_type": "code",
    "id": "FH95EcEg17Wy"
   },
   "outputs": [
    {
     "name": "stdout",
     "output_type": "stream",
     "text": [
      "435 in hex = 0x1b3\n",
      "0 in hex = 0x0\n",
      "-34 in hex = -0x22\n",
      "Return type from hex() is <class 'str'>\n"
     ]
    }
   ],
   "source": [
    "number = 435\n",
    "print(number, 'in hex =', hex(number))\n",
    "\n",
    "number = 0\n",
    "print(number, 'in hex =', hex(number))\n",
    "\n",
    "number = -34\n",
    "print(number, 'in hex =', hex(number))\n",
    "\n",
    "returnType = type(hex(number))\n",
    "print('Return type from hex() is', returnType)"
   ]
  },
  {
   "cell_type": "markdown",
   "metadata": {
    "colab_type": "text",
    "id": "QDfCnHqe2BQF"
   },
   "source": [
    "##### Hexadecimal representation of a float"
   ]
  },
  {
   "cell_type": "code",
   "execution_count": 11,
   "metadata": {
    "colab": {},
    "colab_type": "code",
    "id": "1OPgGgb92CXu"
   },
   "outputs": [
    {
     "name": "stdout",
     "output_type": "stream",
     "text": [
      "2.5 in hex = 0x1.4000000000000p+1\n",
      "0.0 in hex = 0x0.0p+0\n",
      "10.5 in hex = 0x1.5000000000000p+3\n"
     ]
    }
   ],
   "source": [
    "number = 2.5\n",
    "print(number, 'in hex =', float.hex(number))\n",
    "\n",
    "number = 0.0\n",
    "print(number, 'in hex =', float.hex(number))\n",
    "\n",
    "number = 10.5\n",
    "print(number, 'in hex =', float.hex(number))"
   ]
  },
  {
   "cell_type": "markdown",
   "metadata": {
    "colab_type": "text",
    "id": "fnFe7P3c2K9-"
   },
   "source": [
    "**7. oct()**\n",
    "\n",
    "- The oct() method takes an integer number and returns its octal representation.\n",
    "\n",
    "The syntax of oct() is:\n",
    "\n",
    ">oct(x)\n",
    "\n",
    "x: an integer number (binary, decimal or hexadecimal)\n",
    "\n",
    "The oct() method returns an octal string from the given integer number."
   ]
  },
  {
   "cell_type": "code",
   "execution_count": 25,
   "metadata": {
    "colab": {},
    "colab_type": "code",
    "id": "esKFMfGl20ha"
   },
   "outputs": [
    {
     "name": "stdout",
     "output_type": "stream",
     "text": [
      "oct(10) is: 0o12\n",
      "oct(0b101) is: 0o5\n",
      "oct(0XA) is: 0o12\n"
     ]
    }
   ],
   "source": [
    "# decimal number\n",
    "print('oct(10) is:', oct(10))\n",
    "\n",
    "# binary number\n",
    "print('oct(0b101) is:', oct(0b101))\n",
    "\n",
    "# hexadecimal number\n",
    "print('oct(0XA) is:', oct(0XA))"
   ]
  },
  {
   "cell_type": "markdown",
   "metadata": {
    "colab_type": "text",
    "id": "XthB1CN22-tp"
   },
   "source": [
    "**8. float()**\n",
    "\n",
    "- The float() method returns a floating point number from a number or a string.\n",
    "\n",
    "The syntax for float() is:\n",
    "\n",
    ">float([x])\n",
    "\n",
    "<table summary=\"Different parameters with float()\"><caption>Different parameters with float()</caption>\n",
    "<thead>\n",
    "<tr>\n",
    "<th scope=\"col\">Parameter Type</th>\n",
    "<th scope=\"col\">Usage</th>\n",
    "</tr>\n",
    "</thead>\n",
    "<tbody>\n",
    "<tr>\n",
    "<td>Float number</td>\n",
    "<td>Use as floating number</td>\n",
    "</tr>\n",
    "<tr>\n",
    "<td>Integer</td>\n",
    "<td>Use as integer</td>\n",
    "</tr>\n",
    "<tr>\n",
    "<td>String</td>\n",
    "<td>Must contain decimal numbers.<br />Leading and trailing whitespaces are removed.<br />Optional use of \"+\", \"-\" signs.<br />Could contain NaN, Infinity, inf (lowercase or uppercase).</td>\n",
    "</tr>\n",
    "</tbody>\n",
    "</table>"
   ]
  },
  {
   "cell_type": "markdown",
   "metadata": {
    "colab_type": "text",
    "id": "yhLA98Zn3eZf"
   },
   "source": [
    "The float() method returns:\n",
    "\n",
    "Equivalent floating point number if an argument is passed\n",
    "\n",
    "0.0 if no arguments passed\n",
    "\n",
    "OverflowError exception if the argument is outside the range of Python float"
   ]
  },
  {
   "cell_type": "code",
   "execution_count": 26,
   "metadata": {
    "colab": {
     "base_uri": "https://localhost:8080/",
     "height": 86
    },
    "colab_type": "code",
    "id": "m7SRCKTA3ZKA",
    "outputId": "9d3553e0-11ad-486e-91fc-acee804a3e87"
   },
   "outputs": [
    {
     "name": "stdout",
     "output_type": "stream",
     "text": [
      "10.0\n",
      "11.22\n",
      "-13.33\n",
      "-24.45\n"
     ]
    }
   ],
   "source": [
    "# for integers\n",
    "print(float(10))\n",
    "\n",
    "# for floats\n",
    "print(float(11.22))\n",
    "\n",
    "# for string floats\n",
    "print(float(\"-13.33\"))\n",
    "\n",
    "# for string floats with whitespaces\n",
    "print(float(\"     -24.45\\n\"))\n",
    "\n"
   ]
  },
  {
   "cell_type": "code",
   "execution_count": 27,
   "metadata": {
    "colab": {},
    "colab_type": "code",
    "id": "UmSyJWbM3yKx"
   },
   "outputs": [
    {
     "ename": "ValueError",
     "evalue": "could not convert string to float: 'abc'",
     "output_type": "error",
     "traceback": [
      "\u001b[1;31m---------------------------------------------------------------------------\u001b[0m",
      "\u001b[1;31mValueError\u001b[0m                                Traceback (most recent call last)",
      "\u001b[1;32m<ipython-input-27-6ce754dcf473>\u001b[0m in \u001b[0;36m<module>\u001b[1;34m\u001b[0m\n\u001b[0;32m      1\u001b[0m \u001b[1;31m# string float error\u001b[0m\u001b[1;33m\u001b[0m\u001b[1;33m\u001b[0m\u001b[1;33m\u001b[0m\u001b[0m\n\u001b[1;32m----> 2\u001b[1;33m \u001b[0mprint\u001b[0m\u001b[1;33m(\u001b[0m\u001b[0mfloat\u001b[0m\u001b[1;33m(\u001b[0m\u001b[1;34m\"abc\"\u001b[0m\u001b[1;33m)\u001b[0m\u001b[1;33m)\u001b[0m  \u001b[1;31m#ValueError: could not convert string to float: 'abc'\u001b[0m\u001b[1;33m\u001b[0m\u001b[1;33m\u001b[0m\u001b[0m\n\u001b[0m",
      "\u001b[1;31mValueError\u001b[0m: could not convert string to float: 'abc'"
     ]
    }
   ],
   "source": [
    "# string float error\n",
    "print(float(\"abc\"))  #ValueError: could not convert string to float: 'abc'"
   ]
  },
  {
   "cell_type": "markdown",
   "metadata": {
    "colab_type": "text",
    "id": "nEGEFMHO4Ne5"
   },
   "source": [
    "**9.  int()**\n",
    "\n",
    "- The int() method returns an integer object from any number or string.\n",
    "\n",
    "The syntax of int() method is:\n",
    "\n",
    ">int(x=0, base=10)\n",
    "\n",
    "The int() method takes two arguments:\n",
    "\n",
    "x - Number or string to be converted to integer object.\n",
    "Default argument is zero.\n",
    "\n",
    "base - Base of the number in x.\n",
    "Can be 0 (code literal) or 2-36.\n",
    "\n",
    "The int() method returns:\n",
    "\n",
    ">an integer object from the given number or string, treats default base as 10\n",
    "\n",
    ">(No parameters) returns 0\n",
    "\n",
    ">(If base given) treats the string in the given base (0, 2, 8, 10, 16)\n",
    "\n"
   ]
  },
  {
   "cell_type": "code",
   "execution_count": 28,
   "metadata": {
    "colab": {
     "base_uri": "https://localhost:8080/",
     "height": 69
    },
    "colab_type": "code",
    "id": "lOyXH3CP46D-",
    "outputId": "35c06506-081e-42aa-a831-4734ca234e28"
   },
   "outputs": [
    {
     "name": "stdout",
     "output_type": "stream",
     "text": [
      "int(123) is: 123\n",
      "int(123.23) is: 123\n",
      "int('123') is: 123\n"
     ]
    }
   ],
   "source": [
    "# integer\n",
    "print(\"int(123) is:\", int(123))\n",
    "\n",
    "# float\n",
    "print(\"int(123.23) is:\", int(123.23))\n",
    "\n",
    "# string\n",
    "print(\"int('123') is:\", int('123'))"
   ]
  },
  {
   "cell_type": "code",
   "execution_count": 29,
   "metadata": {
    "colab": {
     "base_uri": "https://localhost:8080/",
     "height": 121
    },
    "colab_type": "code",
    "id": "JWVLsvVD5GA_",
    "outputId": "a4b31081-badd-4443-9432-5daff41ae88d"
   },
   "outputs": [
    {
     "name": "stdout",
     "output_type": "stream",
     "text": [
      "For 1010, int is: 10\n",
      "For 0b1010, int is: 10\n",
      "For 12, int is: 10\n",
      "For 0o12, int is: 10\n",
      "For A, int is: 10\n",
      "For 0xA, int is: 10\n"
     ]
    }
   ],
   "source": [
    "#How int() works for decimal, octal and hexadecimal?\n",
    "\n",
    "# binary 0b or 0B\n",
    "print(\"For 1010, int is:\", int('1010', 2))\n",
    "print(\"For 0b1010, int is:\", int('0b1010', 2))\n",
    "\n",
    "# octal 0o or 0O\n",
    "print(\"For 12, int is:\", int('12', 8))\n",
    "print(\"For 0o12, int is:\", int('0o12', 8))\n",
    "\n",
    "# hexadecimal\n",
    "print(\"For A, int is:\", int('A', 16))\n",
    "print(\"For 0xA, int is:\", int('0xA', 16))"
   ]
  },
  {
   "cell_type": "markdown",
   "metadata": {
    "colab_type": "text",
    "id": "hfMLzGj8WRkr"
   },
   "source": [
    "**10. bool()**\n",
    "\n",
    "- The bool() method converts a value to Boolean (True or False) using the standard truth testing procedure.\n",
    "\n",
    "The syntax of bool is:\n",
    "\n",
    ">bool([value])\n",
    "\n",
    "\n",
    "The following values are considered false in Python:\n",
    "\n",
    "None\n",
    "\n",
    "False\n",
    "\n",
    "Zero of any numeric type. For example, 0, 0.0, 0j\n",
    "\n",
    "Empty sequence. For example, (), [], ''.\n",
    "\n",
    "Empty mapping. For example, {}\n",
    "\n",
    "objects of Classes which has __bool__() or __len()__ method which returns 0 or False\n",
    "\n",
    "All other values except these values are considered true."
   ]
  },
  {
   "cell_type": "code",
   "execution_count": 32,
   "metadata": {
    "colab": {},
    "colab_type": "code",
    "id": "Cntk6FugXOef"
   },
   "outputs": [
    {
     "data": {
      "text/plain": [
       "True"
      ]
     },
     "execution_count": 32,
     "metadata": {},
     "output_type": "execute_result"
    }
   ],
   "source": [
    "bool(True)"
   ]
  },
  {
   "cell_type": "code",
   "execution_count": 33,
   "metadata": {
    "colab": {},
    "colab_type": "code",
    "id": "MZvitNqAXeT6"
   },
   "outputs": [
    {
     "name": "stdout",
     "output_type": "stream",
     "text": [
      "[] is False\n",
      "[0] is True\n",
      "0.0 is False\n"
     ]
    }
   ],
   "source": [
    "test = []\n",
    "print(test,'is',bool(test))\n",
    "\n",
    "test = [0]\n",
    "print(test,'is',bool(test))\n",
    "\n",
    "test = 0.0\n",
    "print(test,'is',bool(test))"
   ]
  },
  {
   "cell_type": "markdown",
   "metadata": {
    "colab_type": "text",
    "id": "aQAJB7Lxasha"
   },
   "source": [
    " **11. bytes()**\n",
    "\n",
    " - bytes() returns an immutable bytes object.\n",
    "\n",
    " \n",
    "\n"
   ]
  },
  {
   "cell_type": "code",
   "execution_count": 34,
   "metadata": {
    "colab": {},
    "colab_type": "code",
    "id": "k9csOvwkbMIV"
   },
   "outputs": [
    {
     "name": "stdout",
     "output_type": "stream",
     "text": [
      "b'Python is interesting.'\n"
     ]
    }
   ],
   "source": [
    "#Convert string to bytes\n",
    "\n",
    "string = \"Python is interesting.\"\n",
    "\n",
    "# string with encoding 'utf-8'\n",
    "arr = bytes(string, 'utf-8')\n",
    "print(arr)"
   ]
  },
  {
   "cell_type": "code",
   "execution_count": 35,
   "metadata": {
    "colab": {},
    "colab_type": "code",
    "id": "-3jYKe8BbRQX"
   },
   "outputs": [
    {
     "name": "stdout",
     "output_type": "stream",
     "text": [
      "b'\\x00\\x00\\x00\\x00\\x00'\n"
     ]
    }
   ],
   "source": [
    "#Create a byte of given integer size\n",
    "\n",
    "size = 5\n",
    "\n",
    "arr = bytes(size)\n",
    "print(arr)"
   ]
  },
  {
   "cell_type": "code",
   "execution_count": 36,
   "metadata": {
    "colab": {},
    "colab_type": "code",
    "id": "ViHWG8NSbe2c"
   },
   "outputs": [
    {
     "name": "stdout",
     "output_type": "stream",
     "text": [
      "b'\\x01\\x02\\x03\\x04\\x05'\n"
     ]
    }
   ],
   "source": [
    "#Convert iterable list to bytes\n",
    "rList = [1, 2, 3, 4, 5]\n",
    "\n",
    "arr = bytes(rList)\n",
    "print(arr)"
   ]
  },
  {
   "cell_type": "markdown",
   "metadata": {
    "colab_type": "text",
    "id": "g2KtEJoEbjPL"
   },
   "source": [
    "**12. collable()**\n",
    "\n",
    "- The callable() method returns True if the object passed appears callable. If not, it returns False.\n",
    "\n",
    "The syntax of callable() is:\n",
    "\n",
    ">callable(object)\n",
    "\n",
    "The callable() method returns:\n",
    "\n",
    ">True - if the object appears callable\n",
    ">False - if the object is not callable.\n",
    "\n",
    "It important to remember that, even if the callable() is True, call to the object may still fail.\n",
    "\n",
    "However, if the callable() returns False, call to the object will certainly fail."
   ]
  },
  {
   "cell_type": "code",
   "execution_count": 37,
   "metadata": {
    "colab": {
     "base_uri": "https://localhost:8080/",
     "height": 34
    },
    "colab_type": "code",
    "id": "zwzTuD-pcEQT",
    "outputId": "91ce7dca-4f82-470f-9c69-2b939593067b"
   },
   "outputs": [
    {
     "name": "stdout",
     "output_type": "stream",
     "text": [
      "False\n"
     ]
    }
   ],
   "source": [
    "x = 5\n",
    "print(callable(x))"
   ]
  },
  {
   "cell_type": "code",
   "execution_count": 38,
   "metadata": {
    "colab": {
     "base_uri": "https://localhost:8080/",
     "height": 69
    },
    "colab_type": "code",
    "id": "ywyStGT3dJJU",
    "outputId": "e60ede6a-6bda-4a1e-f727-96335fd33768"
   },
   "outputs": [
    {
     "name": "stdout",
     "output_type": "stream",
     "text": [
      "False\n",
      "True\n",
      "True\n"
     ]
    }
   ],
   "source": [
    "print(callable([1,2,3])) #false\n",
    "print(callable(callable)) #true\n",
    "print(callable(list)) #true"
   ]
  },
  {
   "cell_type": "markdown",
   "metadata": {
    "colab_type": "text",
    "id": "Ly-lFT3fdxr3"
   },
   "source": [
    "A function is callable, a list is not. Even the callable() python Built In function is callable"
   ]
  },
  {
   "cell_type": "markdown",
   "metadata": {
    "colab_type": "text",
    "id": "7MJ4bCtddyne"
   },
   "source": [
    "**13. chr()**\n",
    "\n",
    "- chr() Built In function returns the character in python for an ASCII value.\n",
    "\n",
    "The syntax of chr() is:\n",
    ">chr(integer)\n",
    "\n",
    "The chr() method takes a single parameter, an integer i.\n",
    "\n",
    "The valid range of the integer is from 0 through 1,114,111.\n",
    "\n",
    "The chr() returns:\n",
    "\n",
    "a character (a string) whose Unicode code point is the integer i\n",
    "\n"
   ]
  },
  {
   "cell_type": "code",
   "execution_count": 39,
   "metadata": {
    "colab": {
     "base_uri": "https://localhost:8080/",
     "height": 69
    },
    "colab_type": "code",
    "id": "hkXLuO_geXh4",
    "outputId": "fcc76de6-1cb8-4e0f-df8a-46c4cef98eaa"
   },
   "outputs": [
    {
     "name": "stdout",
     "output_type": "stream",
     "text": [
      "a\n",
      "A\n",
      "Ұ\n"
     ]
    }
   ],
   "source": [
    "#How chr() works\n",
    "\n",
    "print(chr(97))\n",
    "print(chr(65))\n",
    "print(chr(1200))"
   ]
  },
  {
   "cell_type": "markdown",
   "metadata": {
    "colab_type": "text",
    "id": "bjBzT0TDejLg"
   },
   "source": [
    "Integer passed to chr() is out of the range"
   ]
  },
  {
   "cell_type": "code",
   "execution_count": 40,
   "metadata": {
    "colab": {},
    "colab_type": "code",
    "id": "4HZxFC8Xelcr"
   },
   "outputs": [
    {
     "ename": "ValueError",
     "evalue": "chr() arg not in range(0x110000)",
     "output_type": "error",
     "traceback": [
      "\u001b[1;31m---------------------------------------------------------------------------\u001b[0m",
      "\u001b[1;31mValueError\u001b[0m                                Traceback (most recent call last)",
      "\u001b[1;32m<ipython-input-40-7b3e7949b2d8>\u001b[0m in \u001b[0;36m<module>\u001b[1;34m\u001b[0m\n\u001b[1;32m----> 1\u001b[1;33m \u001b[0mprint\u001b[0m \u001b[1;33m(\u001b[0m\u001b[0mchr\u001b[0m\u001b[1;33m(\u001b[0m\u001b[1;33m-\u001b[0m\u001b[1;36m1\u001b[0m\u001b[1;33m)\u001b[0m\u001b[1;33m)\u001b[0m\u001b[1;33m\u001b[0m\u001b[1;33m\u001b[0m\u001b[0m\n\u001b[0m\u001b[0;32m      2\u001b[0m \u001b[1;33m\u001b[0m\u001b[0m\n\u001b[0;32m      3\u001b[0m \u001b[1;31m#ValueError is raised. It's becauase the argument passed to the chr() method is out of the range.\u001b[0m\u001b[1;33m\u001b[0m\u001b[1;33m\u001b[0m\u001b[1;33m\u001b[0m\u001b[0m\n",
      "\u001b[1;31mValueError\u001b[0m: chr() arg not in range(0x110000)"
     ]
    }
   ],
   "source": [
    "print (chr(-1))\n",
    "\n",
    "#ValueError is raised. It's becauase the argument passed to the chr() method is out of the range."
   ]
  },
  {
   "cell_type": "markdown",
   "metadata": {
    "colab_type": "text",
    "id": "TaF4smwoe5EL"
   },
   "source": [
    "**14. ord()**\n",
    "\n",
    "- The ord() method returns an integer representing Unicode code point for the given Unicode character.The ord() method is the inverse of chr().\n",
    "\n",
    "The syntax of ord() is:\n",
    "\n",
    ">ord(c)\n",
    "\n",
    "c - character string of length 1 whose Unicode code point is to be found\n",
    "\n"
   ]
  },
  {
   "cell_type": "markdown",
   "metadata": {
    "colab_type": "text",
    "id": "HPWwpyvyfevc"
   },
   "source": [
    "##### How ord() works in Python?"
   ]
  },
  {
   "cell_type": "code",
   "execution_count": 41,
   "metadata": {
    "colab": {
     "base_uri": "https://localhost:8080/",
     "height": 69
    },
    "colab_type": "code",
    "id": "9gjfb69Xffx_",
    "outputId": "2e3ba8b1-6eed-428c-d213-f3c1f0780952"
   },
   "outputs": [
    {
     "name": "stdout",
     "output_type": "stream",
     "text": [
      "53\n",
      "65\n",
      "36\n"
     ]
    }
   ],
   "source": [
    "# code point of integer\n",
    "print(ord('5'))\n",
    "\n",
    "# code point of alphabet \n",
    "print(ord('A'))\n",
    "\n",
    "# code point of character\n",
    "print(ord('$'))"
   ]
  },
  {
   "cell_type": "markdown",
   "metadata": {
    "colab_type": "text",
    "id": "Sh53tBEOfzZg"
   },
   "source": [
    "**15. complex()**\n",
    "\n",
    "- The complex() method returns a complex number when real and imaginary parts are provided, or it converts a string to a complex number.\n",
    "\n",
    "The syntax of complex() is:\n",
    "\n",
    ">complex([real[, imag]])\n",
    "\n",
    "In general, the complex() method takes two parameters:\n",
    "\n",
    ">real - real part. If real is omitted, it defaults to 0.\n",
    "\n",
    ">imag - imaginary part. If imag is omitted, it default to 0.\n",
    "\n",
    "If the first parameter passed to this method is a string, it will be interpreted as a complex number. In this case, second parameter shouldn't be passed.\n",
    "\n",
    "As suggested by the name, the complex() method returns a complex number.\n",
    "\n",
    "If the string passed to this method is not a valid complex number, ValueError exception is raised.\n",
    "\n",
    "Note: The string passed to the complex() should be in the form real+imagj or real+imagJ\n",
    "\n"
   ]
  },
  {
   "cell_type": "code",
   "execution_count": 42,
   "metadata": {
    "colab": {},
    "colab_type": "code",
    "id": "nE2Dzzu4gaCR"
   },
   "outputs": [
    {
     "name": "stdout",
     "output_type": "stream",
     "text": [
      "(3+0j)\n",
      "0j\n",
      "(5-9j)\n"
     ]
    }
   ],
   "source": [
    "#How to create a complex number in Python\n",
    "\n",
    "print(complex(3))\n",
    "print(complex())\n",
    "print(complex('5-9j'))"
   ]
  },
  {
   "cell_type": "code",
   "execution_count": 43,
   "metadata": {
    "colab": {},
    "colab_type": "code",
    "id": "EJSMzkg9hXiW"
   },
   "outputs": [
    {
     "name": "stdout",
     "output_type": "stream",
     "text": [
      "a = (2+3j)\n",
      "Type of a is <class 'complex'>\n",
      "b = (-0-2j)\n",
      "Type of b is <class 'complex'>\n",
      "c = 0j\n",
      "Type of c is <class 'complex'>\n"
     ]
    }
   ],
   "source": [
    "#Create complex Number Without Using complex()\n",
    "\n",
    "a = 2+3j\n",
    "print('a =',a)\n",
    "print('Type of a is',type(a))\n",
    "\n",
    "b = -2j\n",
    "print('b =',b)\n",
    "print('Type of b is',type(a))\n",
    "\n",
    "c = 0j\n",
    "print('c =',c)\n",
    "print('Type of c is',type(c))"
   ]
  },
  {
   "cell_type": "markdown",
   "metadata": {
    "colab_type": "text",
    "id": "lAW5-MGihjkH"
   },
   "source": [
    "**16. pow()**\n",
    "\n",
    "- The pow() method returns x to the power of y. If the third argument (z) is given, it returns x to the power of y modulus z, i.e. pow(x, y) % z.\n",
    "\n",
    "The syntax of pow() method is:\n",
    ">pow(x, y[, z])\n",
    "\n",
    "The pow(x, y) is equivalent to:\n",
    ">x**y\n",
    "\n",
    "The pow() method takes three parameters:\n",
    "\n",
    "x - number which is to be powered\n",
    "\n",
    "y - number which is to be powered with x\n",
    "\n",
    "z (Optional) - number which is to be used for modulus operation\n",
    "\n",
    "<table summary=\"pow() method parameters cases\"><caption>pow() method parameters cases</caption>\n",
    "<thead>\n",
    "<tr>\n",
    "<th scope=\"col\">x</th>\n",
    "<th scope=\"col\">y</th>\n",
    "<th scope=\"col\">z</th>\n",
    "</tr>\n",
    "</thead>\n",
    "<tbody>\n",
    "<tr>\n",
    "<td>Non-negative Integer OR Negative Integer</td>\n",
    "<td>Non-negative Integer</td>\n",
    "<td>May or may not be present</td>\n",
    "</tr>\n",
    "<tr>\n",
    "<td>Non-negative Integer OR Negative Integer</td>\n",
    "<td>Negative Integer</td>\n",
    "<td>Should not be present</td>\n",
    "</tr>\n",
    "</tbody>\n",
    "</table>"
   ]
  },
  {
   "cell_type": "code",
   "execution_count": 45,
   "metadata": {
    "colab": {
     "base_uri": "https://localhost:8080/",
     "height": 86
    },
    "colab_type": "code",
    "id": "Utm-d9bqiS4W",
    "outputId": "2a8054ee-2165-43e9-b56b-dca01784eaa5"
   },
   "outputs": [
    {
     "name": "stdout",
     "output_type": "stream",
     "text": [
      "4\n",
      "4\n",
      "0.25\n",
      "0.25\n",
      "4\n"
     ]
    }
   ],
   "source": [
    "# positive x, positive y (x**y)\n",
    "print(pow(2, 2))\n",
    "\n",
    "# negative x, positive y\n",
    "print(pow(-2, 2))\n",
    "\n",
    "# positive x, negative y (x**-y)\n",
    "print(pow(2, -2))\n",
    "\n",
    "# negative x, negative y\n",
    "print(pow(-2, -2))\n",
    "\n",
    "#pow() with three arguments (x**y) % z\n",
    "\n",
    "x = 7\n",
    "y = 2\n",
    "z = 5\n",
    "\n",
    "print(pow(x, y, z))"
   ]
  },
  {
   "cell_type": "markdown",
   "metadata": {
    "colab_type": "text",
    "id": "nK287hbCiZeP"
   },
   "source": [
    "**17. divmod()**\n",
    "\n",
    "- The divmod() method takes two numbers and returns a pair of numbers (a tuple) consisting of their quotient and remainder.\n",
    "\n",
    "The syntax of divmod() is:\n",
    "\n",
    ">divmod(x, y)\n",
    "\n",
    "The divmod() takes two parameters:\n",
    "\n",
    ">x - a non-complex number (numerator)\n",
    "\n",
    ">y - a non-complex number (denominator)\n",
    "\n",
    "The divmod() returns\n",
    "\n",
    "(q, r) - a pair of numbers (a tuple) consisting of quotient q and remainder r\n",
    "\n",
    "If x and y are integers, the return value from divmod() is same as (a // b, x % y).\n",
    "\n",
    "If either x or y is a float, the result is (q, x%y). Here, q is the whole part of the quotient.\n",
    "\n",
    "How divmod() works in Python?\n"
   ]
  },
  {
   "cell_type": "code",
   "execution_count": 46,
   "metadata": {
    "colab": {},
    "colab_type": "code",
    "id": "zPTgOtKojUYK"
   },
   "outputs": [
    {
     "name": "stdout",
     "output_type": "stream",
     "text": [
      "divmod(8, 3) =  (2, 2)\n",
      "divmod(3, 8) =  (0, 3)\n"
     ]
    }
   ],
   "source": [
    "print('divmod(8, 3) = ', divmod(8, 3))\n",
    "print('divmod(3, 8) = ', divmod(3, 8))"
   ]
  },
  {
   "cell_type": "code",
   "execution_count": 47,
   "metadata": {
    "colab": {},
    "colab_type": "code",
    "id": "BaQqW2x8jVIe"
   },
   "outputs": [
    {
     "name": "stdout",
     "output_type": "stream",
     "text": [
      "divmod(8.0, 3) =  (2.0, 2.0)\n",
      "divmod(3, 8.0) =  (0.0, 3.0)\n"
     ]
    }
   ],
   "source": [
    "# divmod() with Floats\n",
    "print('divmod(8.0, 3) = ', divmod(8.0, 3))\n",
    "print('divmod(3, 8.0) = ', divmod(3, 8.0))"
   ]
  },
  {
   "cell_type": "markdown",
   "metadata": {
    "colab_type": "text",
    "id": "fk9516bmjd1Y"
   },
   "source": [
    "**18. dict()**\n",
    "\n",
    "- The dict() constructor creates a dictionary in Python.\n",
    "\n"
   ]
  },
  {
   "cell_type": "code",
   "execution_count": 48,
   "metadata": {
    "colab": {},
    "colab_type": "code",
    "id": "rRiU56Fljz7z"
   },
   "outputs": [
    {
     "name": "stdout",
     "output_type": "stream",
     "text": [
      "empty = {}\n",
      "<class 'dict'>\n"
     ]
    }
   ],
   "source": [
    "#Create Dictionary Using keyword arguments only\n",
    "\n",
    "empty = dict()\n",
    "print('empty =', empty)\n",
    "print(type(empty))"
   ]
  },
  {
   "cell_type": "code",
   "execution_count": 49,
   "metadata": {
    "colab": {},
    "colab_type": "code",
    "id": "rVpqQYumj5T8"
   },
   "outputs": [
    {
     "name": "stdout",
     "output_type": "stream",
     "text": [
      "numbers = {'x': 5, 'y': 0}\n",
      "<class 'dict'>\n"
     ]
    }
   ],
   "source": [
    "numbers = dict(x=5, y=0)\n",
    "print('numbers =', numbers)\n",
    "print(type(numbers))"
   ]
  },
  {
   "cell_type": "code",
   "execution_count": 0,
   "metadata": {
    "colab": {},
    "colab_type": "code",
    "id": "01aAB15akVq7"
   },
   "outputs": [],
   "source": [
    "#Create Dictionary Using Iterable\n",
    "\n",
    "# keyword argument is not passed\n",
    "numbers1 = dict([('x', 5), ('y', -5)])\n",
    "print('numbers1 =',numbers1)\n",
    "\n",
    "# keyword argument is also passed\n",
    "numbers2 = dict([('x', 5), ('y', -5)], z=8)\n",
    "print('numbers2 =',numbers2)"
   ]
  },
  {
   "cell_type": "markdown",
   "metadata": {
    "colab_type": "text",
    "id": "VxsaSeCEkGWH"
   },
   "source": [
    "**19. str()**\n",
    "\n",
    "- The str() method returns the \"informal\" or nicely printable representation of a given object. str() takes an argument and returns the string equivalent of it.\n",
    "\n",
    "\n"
   ]
  },
  {
   "cell_type": "code",
   "execution_count": 50,
   "metadata": {
    "colab": {},
    "colab_type": "code",
    "id": "IYOF5YMflkRE"
   },
   "outputs": [
    {
     "data": {
      "text/plain": [
       "'Hello'"
      ]
     },
     "execution_count": 50,
     "metadata": {},
     "output_type": "execute_result"
    }
   ],
   "source": [
    "str('Hello')"
   ]
  },
  {
   "cell_type": "code",
   "execution_count": 51,
   "metadata": {
    "colab": {},
    "colab_type": "code",
    "id": "FSuj37galo6V"
   },
   "outputs": [
    {
     "data": {
      "text/plain": [
       "'7'"
      ]
     },
     "execution_count": 51,
     "metadata": {},
     "output_type": "execute_result"
    }
   ],
   "source": [
    "str(7)"
   ]
  },
  {
   "cell_type": "code",
   "execution_count": 52,
   "metadata": {
    "colab": {},
    "colab_type": "code",
    "id": "HLalK7cGlvCO"
   },
   "outputs": [
    {
     "data": {
      "text/plain": [
       "'8.7'"
      ]
     },
     "execution_count": 52,
     "metadata": {},
     "output_type": "execute_result"
    }
   ],
   "source": [
    "str(8.7)"
   ]
  },
  {
   "cell_type": "code",
   "execution_count": 53,
   "metadata": {
    "colab": {},
    "colab_type": "code",
    "id": "MpV43fbIlx-_"
   },
   "outputs": [
    {
     "data": {
      "text/plain": [
       "'False'"
      ]
     },
     "execution_count": 53,
     "metadata": {},
     "output_type": "execute_result"
    }
   ],
   "source": [
    "str(False)"
   ]
  },
  {
   "cell_type": "code",
   "execution_count": 54,
   "metadata": {
    "colab": {},
    "colab_type": "code",
    "id": "nE7Z8PT8l6Lc"
   },
   "outputs": [
    {
     "data": {
      "text/plain": [
       "'[1, 2, 3]'"
      ]
     },
     "execution_count": 54,
     "metadata": {},
     "output_type": "execute_result"
    }
   ],
   "source": [
    "str([1,2,3])"
   ]
  },
  {
   "cell_type": "markdown",
   "metadata": {
    "colab_type": "text",
    "id": "BZU92bHol9Z4"
   },
   "source": [
    "**20. help()**\n",
    "\n",
    "- The help() method calls the built-in Python help system.\n",
    "\n",
    "The syntax of help() is:\n",
    "\n",
    ">help(object)\n",
    "\n",
    "object (optional) - you want to generate the help of the given object.\n",
    "\n",
    "The help() method is used for interactive use. It's recommenced to try it in your interpreter when you need help to write Python program and use Python modules."
   ]
  },
  {
   "cell_type": "code",
   "execution_count": 55,
   "metadata": {
    "colab": {},
    "colab_type": "code",
    "id": "_GcmSvoomg-A"
   },
   "outputs": [
    {
     "name": "stdout",
     "output_type": "stream",
     "text": [
      "Help on class list in module builtins:\n",
      "\n",
      "class list(object)\n",
      " |  list(iterable=(), /)\n",
      " |  \n",
      " |  Built-in mutable sequence.\n",
      " |  \n",
      " |  If no argument is given, the constructor creates a new empty list.\n",
      " |  The argument must be an iterable if specified.\n",
      " |  \n",
      " |  Methods defined here:\n",
      " |  \n",
      " |  __add__(self, value, /)\n",
      " |      Return self+value.\n",
      " |  \n",
      " |  __contains__(self, key, /)\n",
      " |      Return key in self.\n",
      " |  \n",
      " |  __delitem__(self, key, /)\n",
      " |      Delete self[key].\n",
      " |  \n",
      " |  __eq__(self, value, /)\n",
      " |      Return self==value.\n",
      " |  \n",
      " |  __ge__(self, value, /)\n",
      " |      Return self>=value.\n",
      " |  \n",
      " |  __getattribute__(self, name, /)\n",
      " |      Return getattr(self, name).\n",
      " |  \n",
      " |  __getitem__(...)\n",
      " |      x.__getitem__(y) <==> x[y]\n",
      " |  \n",
      " |  __gt__(self, value, /)\n",
      " |      Return self>value.\n",
      " |  \n",
      " |  __iadd__(self, value, /)\n",
      " |      Implement self+=value.\n",
      " |  \n",
      " |  __imul__(self, value, /)\n",
      " |      Implement self*=value.\n",
      " |  \n",
      " |  __init__(self, /, *args, **kwargs)\n",
      " |      Initialize self.  See help(type(self)) for accurate signature.\n",
      " |  \n",
      " |  __iter__(self, /)\n",
      " |      Implement iter(self).\n",
      " |  \n",
      " |  __le__(self, value, /)\n",
      " |      Return self<=value.\n",
      " |  \n",
      " |  __len__(self, /)\n",
      " |      Return len(self).\n",
      " |  \n",
      " |  __lt__(self, value, /)\n",
      " |      Return self<value.\n",
      " |  \n",
      " |  __mul__(self, value, /)\n",
      " |      Return self*value.\n",
      " |  \n",
      " |  __ne__(self, value, /)\n",
      " |      Return self!=value.\n",
      " |  \n",
      " |  __repr__(self, /)\n",
      " |      Return repr(self).\n",
      " |  \n",
      " |  __reversed__(self, /)\n",
      " |      Return a reverse iterator over the list.\n",
      " |  \n",
      " |  __rmul__(self, value, /)\n",
      " |      Return value*self.\n",
      " |  \n",
      " |  __setitem__(self, key, value, /)\n",
      " |      Set self[key] to value.\n",
      " |  \n",
      " |  __sizeof__(self, /)\n",
      " |      Return the size of the list in memory, in bytes.\n",
      " |  \n",
      " |  append(self, object, /)\n",
      " |      Append object to the end of the list.\n",
      " |  \n",
      " |  clear(self, /)\n",
      " |      Remove all items from list.\n",
      " |  \n",
      " |  copy(self, /)\n",
      " |      Return a shallow copy of the list.\n",
      " |  \n",
      " |  count(self, value, /)\n",
      " |      Return number of occurrences of value.\n",
      " |  \n",
      " |  extend(self, iterable, /)\n",
      " |      Extend list by appending elements from the iterable.\n",
      " |  \n",
      " |  index(self, value, start=0, stop=9223372036854775807, /)\n",
      " |      Return first index of value.\n",
      " |      \n",
      " |      Raises ValueError if the value is not present.\n",
      " |  \n",
      " |  insert(self, index, object, /)\n",
      " |      Insert object before index.\n",
      " |  \n",
      " |  pop(self, index=-1, /)\n",
      " |      Remove and return item at index (default last).\n",
      " |      \n",
      " |      Raises IndexError if list is empty or index is out of range.\n",
      " |  \n",
      " |  remove(self, value, /)\n",
      " |      Remove first occurrence of value.\n",
      " |      \n",
      " |      Raises ValueError if the value is not present.\n",
      " |  \n",
      " |  reverse(self, /)\n",
      " |      Reverse *IN PLACE*.\n",
      " |  \n",
      " |  sort(self, /, *, key=None, reverse=False)\n",
      " |      Stable sort *IN PLACE*.\n",
      " |  \n",
      " |  ----------------------------------------------------------------------\n",
      " |  Static methods defined here:\n",
      " |  \n",
      " |  __new__(*args, **kwargs) from builtins.type\n",
      " |      Create and return a new object.  See help(type) for accurate signature.\n",
      " |  \n",
      " |  ----------------------------------------------------------------------\n",
      " |  Data and other attributes defined here:\n",
      " |  \n",
      " |  __hash__ = None\n",
      "\n"
     ]
    }
   ],
   "source": [
    "help(list)"
   ]
  },
  {
   "cell_type": "code",
   "execution_count": 56,
   "metadata": {
    "colab": {},
    "colab_type": "code",
    "id": "mVD_MpgLmx3r"
   },
   "outputs": [
    {
     "name": "stdout",
     "output_type": "stream",
     "text": [
      "Help on class dict in module builtins:\n",
      "\n",
      "class dict(object)\n",
      " |  dict() -> new empty dictionary\n",
      " |  dict(mapping) -> new dictionary initialized from a mapping object's\n",
      " |      (key, value) pairs\n",
      " |  dict(iterable) -> new dictionary initialized as if via:\n",
      " |      d = {}\n",
      " |      for k, v in iterable:\n",
      " |          d[k] = v\n",
      " |  dict(**kwargs) -> new dictionary initialized with the name=value pairs\n",
      " |      in the keyword argument list.  For example:  dict(one=1, two=2)\n",
      " |  \n",
      " |  Methods defined here:\n",
      " |  \n",
      " |  __contains__(self, key, /)\n",
      " |      True if the dictionary has the specified key, else False.\n",
      " |  \n",
      " |  __delitem__(self, key, /)\n",
      " |      Delete self[key].\n",
      " |  \n",
      " |  __eq__(self, value, /)\n",
      " |      Return self==value.\n",
      " |  \n",
      " |  __ge__(self, value, /)\n",
      " |      Return self>=value.\n",
      " |  \n",
      " |  __getattribute__(self, name, /)\n",
      " |      Return getattr(self, name).\n",
      " |  \n",
      " |  __getitem__(...)\n",
      " |      x.__getitem__(y) <==> x[y]\n",
      " |  \n",
      " |  __gt__(self, value, /)\n",
      " |      Return self>value.\n",
      " |  \n",
      " |  __init__(self, /, *args, **kwargs)\n",
      " |      Initialize self.  See help(type(self)) for accurate signature.\n",
      " |  \n",
      " |  __iter__(self, /)\n",
      " |      Implement iter(self).\n",
      " |  \n",
      " |  __le__(self, value, /)\n",
      " |      Return self<=value.\n",
      " |  \n",
      " |  __len__(self, /)\n",
      " |      Return len(self).\n",
      " |  \n",
      " |  __lt__(self, value, /)\n",
      " |      Return self<value.\n",
      " |  \n",
      " |  __ne__(self, value, /)\n",
      " |      Return self!=value.\n",
      " |  \n",
      " |  __repr__(self, /)\n",
      " |      Return repr(self).\n",
      " |  \n",
      " |  __setitem__(self, key, value, /)\n",
      " |      Set self[key] to value.\n",
      " |  \n",
      " |  __sizeof__(...)\n",
      " |      D.__sizeof__() -> size of D in memory, in bytes\n",
      " |  \n",
      " |  clear(...)\n",
      " |      D.clear() -> None.  Remove all items from D.\n",
      " |  \n",
      " |  copy(...)\n",
      " |      D.copy() -> a shallow copy of D\n",
      " |  \n",
      " |  get(self, key, default=None, /)\n",
      " |      Return the value for key if key is in the dictionary, else default.\n",
      " |  \n",
      " |  items(...)\n",
      " |      D.items() -> a set-like object providing a view on D's items\n",
      " |  \n",
      " |  keys(...)\n",
      " |      D.keys() -> a set-like object providing a view on D's keys\n",
      " |  \n",
      " |  pop(...)\n",
      " |      D.pop(k[,d]) -> v, remove specified key and return the corresponding value.\n",
      " |      If key is not found, d is returned if given, otherwise KeyError is raised\n",
      " |  \n",
      " |  popitem(...)\n",
      " |      D.popitem() -> (k, v), remove and return some (key, value) pair as a\n",
      " |      2-tuple; but raise KeyError if D is empty.\n",
      " |  \n",
      " |  setdefault(self, key, default=None, /)\n",
      " |      Insert key with a value of default if key is not in the dictionary.\n",
      " |      \n",
      " |      Return the value for key if key is in the dictionary, else default.\n",
      " |  \n",
      " |  update(...)\n",
      " |      D.update([E, ]**F) -> None.  Update D from dict/iterable E and F.\n",
      " |      If E is present and has a .keys() method, then does:  for k in E: D[k] = E[k]\n",
      " |      If E is present and lacks a .keys() method, then does:  for k, v in E: D[k] = v\n",
      " |      In either case, this is followed by: for k in F:  D[k] = F[k]\n",
      " |  \n",
      " |  values(...)\n",
      " |      D.values() -> an object providing a view on D's values\n",
      " |  \n",
      " |  ----------------------------------------------------------------------\n",
      " |  Class methods defined here:\n",
      " |  \n",
      " |  fromkeys(iterable, value=None, /) from builtins.type\n",
      " |      Create a new dictionary with keys from iterable and values set to value.\n",
      " |  \n",
      " |  ----------------------------------------------------------------------\n",
      " |  Static methods defined here:\n",
      " |  \n",
      " |  __new__(*args, **kwargs) from builtins.type\n",
      " |      Create and return a new object.  See help(type) for accurate signature.\n",
      " |  \n",
      " |  ----------------------------------------------------------------------\n",
      " |  Data and other attributes defined here:\n",
      " |  \n",
      " |  __hash__ = None\n",
      "\n"
     ]
    }
   ],
   "source": [
    "help(dict)\n"
   ]
  },
  {
   "cell_type": "markdown",
   "metadata": {
    "colab_type": "text",
    "id": "6QYHv3uwnMND"
   },
   "source": [
    "##### To quit the help utility and return to the interpreter, you need to type quit and press enter."
   ]
  },
  {
   "cell_type": "code",
   "execution_count": 57,
   "metadata": {
    "colab": {},
    "colab_type": "code",
    "id": "I7TsRo8OnSGu"
   },
   "outputs": [],
   "source": [
    "#quit \n",
    "\n",
    "#it can crush the session while running"
   ]
  },
  {
   "cell_type": "markdown",
   "metadata": {
    "colab_type": "text",
    "id": "hGnNtN4UnC28"
   },
   "source": [
    "**21. enumerate()**\n",
    "\n",
    "- The enumerate() method adds counter to an iterable and returns it (the enumerate object).\n",
    "The syntax of enumerate() is:\n",
    "\n",
    ">enumerate(iterable, start=0)\n",
    "\n",
    "The enumerate() method takes two parameters:\n",
    "\n",
    ">iterable - a sequence, an iterator, or objects that supports iteration\n",
    "\n",
    ">start (optional) - enumerate() starts counting from this number. If start is omitted, 0 is taken as start.\n",
    "\n",
    "You can convert enumerate objects to list and tuple using list() and tuple() method respectively.\n",
    "\n"
   ]
  },
  {
   "cell_type": "code",
   "execution_count": 0,
   "metadata": {
    "colab": {},
    "colab_type": "code",
    "id": "tcq9xQBJoJco"
   },
   "outputs": [],
   "source": [
    "grocery = ['bread', 'milk', 'butter']\n",
    "enumerateGrocery = enumerate(grocery)\n",
    "\n",
    "print(type(enumerateGrocery))\n",
    "\n",
    "# converting to list\n",
    "print(list(enumerateGrocery))\n",
    "\n",
    "# changing the default counter\n",
    "enumerateGrocery = enumerate(grocery, 10)\n",
    "print(list(enumerateGrocery))"
   ]
  },
  {
   "cell_type": "markdown",
   "metadata": {
    "colab_type": "text",
    "id": "Qd7oA_sdobw0"
   },
   "source": [
    "**22. eval()** \n",
    "\n",
    "- This Function takes a string as an argument, which is parsed as an expression.\n",
    "\n",
    "- The eval() method parses the expression passed to this method and runs python expression (code) within the program."
   ]
  },
  {
   "cell_type": "code",
   "execution_count": 58,
   "metadata": {
    "colab": {
     "base_uri": "https://localhost:8080/",
     "height": 34
    },
    "colab_type": "code",
    "id": "3tmj1YULpCDW",
    "outputId": "474f317e-86e5-4f0a-ed63-71116766b993"
   },
   "outputs": [
    {
     "name": "stdout",
     "output_type": "stream",
     "text": [
      "2\n"
     ]
    }
   ],
   "source": [
    "x = 1\n",
    "print(eval('x + 1'))"
   ]
  },
  {
   "cell_type": "code",
   "execution_count": 59,
   "metadata": {
    "colab": {
     "base_uri": "https://localhost:8080/",
     "height": 34
    },
    "colab_type": "code",
    "id": "r13hqUywpV2j",
    "outputId": "40cd40bd-c04e-42da-c660-d1276e058e92"
   },
   "outputs": [
    {
     "data": {
      "text/plain": [
       "2"
      ]
     },
     "execution_count": 59,
     "metadata": {},
     "output_type": "execute_result"
    }
   ],
   "source": [
    "eval('x+(x%2)')"
   ]
  },
  {
   "cell_type": "markdown",
   "metadata": {
    "colab_type": "text",
    "id": "V-3dhaTupg9q"
   },
   "source": [
    "**23. exec()**\n",
    "\n",
    "- The exec() method executes the dynamically created program, which is either a string or a code object."
   ]
  },
  {
   "cell_type": "code",
   "execution_count": 11,
   "metadata": {
    "colab": {},
    "colab_type": "code",
    "id": "93XgtMh2pzwE"
   },
   "outputs": [
    {
     "name": "stdout",
     "output_type": "stream",
     "text": [
      "5\n"
     ]
    }
   ],
   "source": [
    "exec('a=2;b=3;print(a+b)')"
   ]
  },
  {
   "cell_type": "code",
   "execution_count": 61,
   "metadata": {
    "colab": {
     "base_uri": "https://localhost:8080/",
     "height": 34
    },
    "colab_type": "code",
    "id": "iWYUcvpMqCXW",
    "outputId": "a4cb356e-a1f3-43f2-f607-385b8a8cfcb7"
   },
   "outputs": [
    {
     "name": "stdout",
     "output_type": "stream",
     "text": [
      "Enter a program:a=2;b=3;c=a+b\n"
     ]
    }
   ],
   "source": [
    "#Allow user to provide input\n",
    "\n",
    "program = input('Enter a program:')\n",
    "exec(program)"
   ]
  },
  {
   "cell_type": "markdown",
   "metadata": {
    "colab_type": "text",
    "id": "w98qVO41qS3x"
   },
   "source": [
    "**24. globals()**\n",
    "\n",
    "- The globals() method returns the dictionary of the current global symbol table.\n",
    "\n",
    "- A symbol table is a data structure maintained by a compiler which contains all necessary information about the program.\n",
    "\n",
    "These include variable names, methods, classes, etc.\n",
    "\n",
    "There are mainly two kinds of symbol table.\n",
    "\n",
    "\n",
    "1.   Local symbol table\n",
    "2.   Global symbol table\n",
    "\n",
    "Local symbol table stores all information related to the local scope of the program, and is accessed in Python using locals() method.\n",
    "\n",
    "Likewise, a Global symbol table stores all information related to the global scope of the program, and is accessed in Python using globals() method.\n",
    "\n",
    "The syntax of globals() method is:\n",
    ">globals()\n",
    "\n"
   ]
  },
  {
   "cell_type": "code",
   "execution_count": 0,
   "metadata": {
    "colab": {},
    "colab_type": "code",
    "id": "8UfQwvNbs1iM"
   },
   "outputs": [],
   "source": [
    "globals()"
   ]
  },
  {
   "cell_type": "code",
   "execution_count": 0,
   "metadata": {
    "colab": {},
    "colab_type": "code",
    "id": "bYJstphcs4El"
   },
   "outputs": [],
   "source": [
    "#Modify global variable using global()\n",
    "\n",
    "age = 23\n",
    "\n",
    "globals()['age'] = 25\n",
    "print('The age is:', age)"
   ]
  },
  {
   "cell_type": "markdown",
   "metadata": {
    "colab_type": "text",
    "id": "ZtskFNCrtAj5"
   },
   "source": [
    "Here, since the global symbol table also stores all global variables, i.e. in this case, age, the value of age can be changed using the globals() function.\n",
    "\n",
    "The dictionary returned is accessed using key of the variable age and modified to 25.\n",
    "\n",
    "This is reflected to the global symbol table again.\n",
    "\n"
   ]
  },
  {
   "cell_type": "markdown",
   "metadata": {
    "colab_type": "text",
    "id": "rbdtoiBHtcmz"
   },
   "source": [
    "**25. locals()**\n",
    "\n",
    "- The locals() method updates and returns a dictionary of the current local symbol table.\n",
    "\n",
    "The syntax of locals() method is:\n",
    "\n",
    ">locals()\n",
    "\n"
   ]
  },
  {
   "cell_type": "code",
   "execution_count": 0,
   "metadata": {
    "colab": {},
    "colab_type": "code",
    "id": "75SN7lWft4h0"
   },
   "outputs": [],
   "source": [
    "#The locals() method doesn't take any parameters.\n",
    "\n",
    "locals()"
   ]
  },
  {
   "cell_type": "markdown",
   "metadata": {
    "colab_type": "text",
    "id": "Hv0MhlC3wzVu"
   },
   "source": [
    "**26. reversed()**\n",
    "\n",
    "- The reversed() method returns the reversed iterator of the given sequence.\n",
    "\n"
   ]
  },
  {
   "cell_type": "code",
   "execution_count": 25,
   "metadata": {
    "colab": {
     "base_uri": "https://localhost:8080/",
     "height": 86
    },
    "colab_type": "code",
    "id": "QEpDf3W0xp_0",
    "outputId": "c06f1ff6-f0bb-4253-e607-e041fed2e0df"
   },
   "outputs": [
    {
     "name": "stdout",
     "output_type": "stream",
     "text": [
      "['n', 'o', 'h', 't', 'y', 'P']\n",
      "['n', 'o', 'h', 't', 'y', 'P']\n",
      "[8, 7, 6, 5]\n",
      "[5, 3, 4, 2, 1]\n"
     ]
    }
   ],
   "source": [
    "#How reversed works for a sequence: string, tuple, list and range\n",
    "\n",
    "# for string\n",
    "seqString = 'Python'\n",
    "print(list(reversed(seqString)))\n",
    "\n",
    "# for tuple\n",
    "seqTuple = ('P', 'y', 't', 'h', 'o', 'n')\n",
    "print(list(reversed(seqTuple)))\n",
    "\n",
    "# for range\n",
    "seqRange = range(5, 9)\n",
    "print(list(reversed(seqRange)))\n",
    "\n",
    "# for list\n",
    "seqList = [1, 2, 4, 3, 5]\n",
    "print(list(reversed(seqList)))"
   ]
  },
  {
   "cell_type": "markdown",
   "metadata": {
    "colab_type": "text",
    "id": "ngvJvEgNym9y"
   },
   "source": [
    "**27. sorted()**\n",
    "\n",
    "- The sorted() method returns a sorted list from the given iterable.\n",
    "\n",
    "- The sorted() method sorts the elements of a given iterable in a specific order - Ascending or Descending.\n",
    "\n",
    "- The syntax of sorted() method is:\n",
    "\n",
    ">sorted(iterable[, key][, reverse])\n",
    "\n",
    "sorted() takes two three parameters:\n",
    "\n",
    ">iterable - sequence (string, tuple, list) or collection (set, dictionary, frozen set) or any iterator \n",
    "\n",
    ">reverse (Optional) - If true, the sorted list is reversed (or sorted in Descending order)\n",
    "\n",
    ">key (Optional) - function that serves as a key for the sort comparison\n",
    "\n",
    "Sort a given sequence: string, list and tuple\n",
    "\n"
   ]
  },
  {
   "cell_type": "code",
   "execution_count": 26,
   "metadata": {
    "colab": {},
    "colab_type": "code",
    "id": "mdz9IZWJz67j"
   },
   "outputs": [
    {
     "name": "stdout",
     "output_type": "stream",
     "text": [
      "['a', 'e', 'i', 'o', 'u']\n",
      "['P', 'h', 'n', 'o', 't', 'y']\n",
      "['a', 'e', 'i', 'o', 'u']\n"
     ]
    }
   ],
   "source": [
    "# vowels list\n",
    "pyList = ['e', 'a', 'u', 'o', 'i']\n",
    "print(sorted(pyList))\n",
    "\n",
    "# string \n",
    "pyString = 'Python'\n",
    "print(sorted(pyString))\n",
    "\n",
    "# vowels tuple\n",
    "pyTuple = ('e', 'a', 'u', 'o', 'i')\n",
    "print(sorted(pyTuple))"
   ]
  },
  {
   "cell_type": "markdown",
   "metadata": {
    "colab_type": "text",
    "id": "2YidIwhY0c4L"
   },
   "source": [
    "**28. round()**\n",
    "\n",
    "- The round() method returns the floating point number rounded off to the given ndigits digits after the decimal point. If no ndigits is provided, it rounds off the number to the nearest integer.\n",
    "\n",
    "The syntax of round() is:\n",
    "\n",
    ">round(number[, ndigits])\n",
    "\n",
    "The round() method takes two parameters:\n",
    "\n",
    ">number - number that is to be rounded\n",
    "\n",
    ">ndigits (Optional) - number upto which the given number is to be rounded\n",
    "\n",
    "\n"
   ]
  },
  {
   "cell_type": "code",
   "execution_count": 27,
   "metadata": {
    "colab": {},
    "colab_type": "code",
    "id": "20dvHv580_r1"
   },
   "outputs": [
    {
     "name": "stdout",
     "output_type": "stream",
     "text": [
      "10\n",
      "11\n",
      "6\n"
     ]
    }
   ],
   "source": [
    "# for integers\n",
    "print(round(10))\n",
    "\n",
    "# for floating point\n",
    "print(round(10.7))\n",
    "\n",
    "# even choice\n",
    "print(round(5.5))"
   ]
  }
 ],
 "metadata": {
  "kernelspec": {
   "display_name": "Python 3",
   "language": "python",
   "name": "python3"
  },
  "language_info": {
   "codemirror_mode": {
    "name": "ipython",
    "version": 3
   },
   "file_extension": ".py",
   "mimetype": "text/x-python",
   "name": "python",
   "nbconvert_exporter": "python",
   "pygments_lexer": "ipython3",
   "version": "3.7.1"
  }
 },
 "nbformat": 4,
 "nbformat_minor": 2
}
